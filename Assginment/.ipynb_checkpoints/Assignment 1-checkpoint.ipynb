{
 "cells": [
  {
   "cell_type": "markdown",
   "id": "fd6b242b",
   "metadata": {},
   "source": [
    "# Exercise 1:"
   ]
  },
  {
   "cell_type": "markdown",
   "id": "3da0e2e0",
   "metadata": {},
   "source": [
    "Create a function that can accept two arguments name and age and print its value."
   ]
  },
  {
   "cell_type": "code",
   "execution_count": 1,
   "id": "efa7ff0f",
   "metadata": {},
   "outputs": [
    {
     "name": "stdout",
     "output_type": "stream",
     "text": [
      "('Hello', 'Anon', 20)\n"
     ]
    }
   ],
   "source": [
    "def data(name,age):\n",
    "    return \"Hello\",name,age\n",
    "print(data(\"Anon\",20))"
   ]
  },
  {
   "cell_type": "markdown",
   "id": "c8f070af",
   "metadata": {},
   "source": [
    "# Exercise 2:"
   ]
  },
  {
   "cell_type": "markdown",
   "id": "052b242a",
   "metadata": {},
   "source": [
    "Write a function calculation() such that it can accept two variables and calculate the addition and subtraction of them.And also,it must return both addition and subtraction in a single return call."
   ]
  },
  {
   "cell_type": "code",
   "execution_count": 3,
   "id": "7ad307b3",
   "metadata": {},
   "outputs": [
    {
     "name": "stdout",
     "output_type": "stream",
     "text": [
      "Username :admin\n",
      "Password :1234\n",
      "Login success\n",
      "-----Calculator-----\n",
      "1.Calculate\n",
      "2.Exit\n",
      ":1\n",
      "NUMBER1:20\n",
      "NUMBER2:15\n",
      "Addition: 35\n",
      "Subtraction: 5\n"
     ]
    }
   ],
   "source": [
    "def login():\n",
    "    username = input(\"Username :\")\n",
    "    password = input(\"Password :\")\n",
    "    while (username != \"admin\" and password != \"file\"):\n",
    "        username = input(\"Username :\").capitalize\n",
    "        password = input(\"Password :\")\n",
    "    print(\"Login success\")\n",
    "    return True\n",
    "\n",
    "def showMenu():\n",
    "    print(\"Calculator\".center(20,\"-\"))\n",
    "    print(\"1.Calculate\")\n",
    "    print(\"2.Exit\")\n",
    "\n",
    "def menuSelect():\n",
    "    userSelected = int(input(\":\"))\n",
    "    return userSelected\n",
    "\n",
    "def cal(a, b):\n",
    "    return a+b, a-b\n",
    "\n",
    "def show(x,y):\n",
    "    add, sub = cal(x, y)\n",
    "    print(\"Addition:\",add)\n",
    "    print(\"Subtraction:\",sub)\n",
    "\n",
    "if login()==True:\n",
    "    showMenu()\n",
    "    menu = menuSelect()\n",
    "    if menu == 1:\n",
    "        a = int(input(\"NUMBER1:\"))\n",
    "        b = int(input(\"NUMBER2:\"))\n",
    "        show(a,b)\n",
    "    elif menu == 2:\n",
    "        print(\"GOODBYE\".center(20,\"-\"))\n",
    "        print(\"(^_^)\".center(20))\n",
    "    else:\n",
    "        print(\"Error\")"
   ]
  },
  {
   "cell_type": "markdown",
   "id": "052d065a",
   "metadata": {},
   "source": [
    "# Exercise 3:"
   ]
  },
  {
   "cell_type": "markdown",
   "id": "06570749",
   "metadata": {},
   "source": [
    "Write a function that takes the lengths of the two shorter sides of a  righttriangle  as  its  parameters.  Return  the hypotenuseof  the  triangle, computed using Pythagorean theorem, as the function’s result. Note that the lengths of the shorter sides of a right triangle are read  as the user inputs, uses your function to compute the length of the hypotenuse, and displays the result."
   ]
  },
  {
   "cell_type": "code",
   "execution_count": 4,
   "id": "0ed463ad",
   "metadata": {},
   "outputs": [
    {
     "name": "stdout",
     "output_type": "stream",
     "text": [
      "Username :admin\n",
      "Password :1234\n",
      "Login success\n",
      "Welcome to Programs\n",
      "Input lengths of shorter triangle sides:\n",
      "a: 12\n",
      "b: 25\n",
      "The length of the hypotenuse is: 27.730849247724095\n"
     ]
    }
   ],
   "source": [
    "import math\n",
    "def login():\n",
    "    username = input(\"Username :\")\n",
    "    password = input(\"Password :\")\n",
    "    while (username != \"admin\" and password != \"file\"):\n",
    "        username = input(\"Username :\").capitalize\n",
    "        password = input(\"Password :\")\n",
    "    print(\"Login success\")\n",
    "    return True\n",
    "\n",
    "def cal():\n",
    "    print(\"Welcome to Programs\\nInput lengths of shorter triangle sides:\")\n",
    "    a = float(input(\"a: \"))\n",
    "    b = float(input(\"b: \"))\n",
    "    c = math.sqrt(a**2 + b**2)\n",
    "    print(\"The length of the hypotenuse is:\", c )\n",
    "\n",
    "if login()==True:\n",
    "    cal()"
   ]
  },
  {
   "cell_type": "markdown",
   "id": "1c7263f9",
   "metadata": {},
   "source": [
    "# Exercise 4:"
   ]
  },
  {
   "cell_type": "markdown",
   "id": "079dd6bb",
   "metadata": {},
   "source": [
    "Write  a  function  that  takes three  numbers  as  parameters,  and returns  the median  value of  those  parameters  as  its  result.  Include  a  main program that reads three values from the user and displays their median."
   ]
  },
  {
   "cell_type": "code",
   "execution_count": 5,
   "id": "5d6d8706",
   "metadata": {},
   "outputs": [
    {
     "name": "stdout",
     "output_type": "stream",
     "text": [
      "Username :admin\n",
      "Password :1234\n",
      "Login success\n",
      "-----------Welcome------------\n",
      "Input first number: 12\n",
      "Input second number: 25\n",
      "Input third number: 57\n",
      "----List of data----\n",
      "[ 12.0 25.0 57.0 ]\n",
      "The median is 25.0\n"
     ]
    }
   ],
   "source": [
    "def login():\n",
    "    username = input(\"Username :\")\n",
    "    password = input(\"Password :\")\n",
    "    while (username != \"admin\" and password != \"file\"):\n",
    "        username = input(\"Username :\").capitalize\n",
    "        password = input(\"Password :\")\n",
    "    print(\"Login success\")\n",
    "    return True\n",
    "if login()==True:\n",
    "    print(\"Welcome\".center(30,\"-\"))\n",
    "    a = float(input(\"Input first number: \"))\n",
    "    b = float(input(\"Input second number: \"))\n",
    "    c = float(input(\"Input third number: \"))\n",
    "    if a > b:\n",
    "        if a < c:\n",
    "            median = a\n",
    "        elif b > c:\n",
    "            median = b\n",
    "        else:\n",
    "            median = c\n",
    "    else:\n",
    "        if a > c:\n",
    "            median = a\n",
    "        elif b < c:\n",
    "            median = b\n",
    "        else:\n",
    "            median = c\n",
    "\n",
    "    print(\"List of data\".center(20,\"-\"))\n",
    "    print(\"[\",a,b,c,\"]\")\n",
    "    print(\"The median is\", median)"
   ]
  }
 ],
 "metadata": {
  "kernelspec": {
   "display_name": "Python 3",
   "language": "python",
   "name": "python3"
  },
  "language_info": {
   "codemirror_mode": {
    "name": "ipython",
    "version": 3
   },
   "file_extension": ".py",
   "mimetype": "text/x-python",
   "name": "python",
   "nbconvert_exporter": "python",
   "pygments_lexer": "ipython3",
   "version": "3.8.8"
  }
 },
 "nbformat": 4,
 "nbformat_minor": 5
}
