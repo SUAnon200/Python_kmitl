{
 "cells": [
  {
   "cell_type": "markdown",
   "metadata": {},
   "source": [
    "# Extract contours from RTSTRUCT file\n",
    "# Method 1: Hacking Dicom-Contour"
   ]
  },
  {
   "cell_type": "code",
   "execution_count": 12,
   "metadata": {},
   "outputs": [],
   "source": [
    "import pydicom as pd\n",
    "from dicom_contour import contour\n",
    "import os\n",
    "import numpy as np\n",
    "import cv2\n",
    "from glob import glob\n",
    "from shutil import copyfile\n",
    "import matplotlib.pyplot as plt"
   ]
  },
  {
   "cell_type": "markdown",
   "metadata": {},
   "source": [
    "## Rename CT image files to their SOPInstanceUID field"
   ]
  },
  {
   "cell_type": "code",
   "execution_count": 4,
   "metadata": {},
   "outputs": [],
   "source": [
    "# Rename CT slices\n",
    "filelist = glob('./lung_ct_scan/*dcm')\n",
    "dicom_files = [pd.read_file(filename) for filename in filelist]\n",
    "\n",
    "# Make a new folder for saving the renamed dicom files\n",
    "new_folder = './lung_ct_scan_renamed/'\n",
    "if not os.path.exists(new_folder):\n",
    "    os.makedirs(new_folder)\n",
    "\n",
    "# Loop through dicom files and rename any with the 'CT' modality field\n",
    "for i, dc in enumerate(dicom_files):\n",
    "    old_name = filelist[i]\n",
    "    if dc.Modality == 'CT':\n",
    "        new_name = new_folder + dc.SOPInstanceUID + '.dcm'\n",
    "    else:\n",
    "        new_name = old_name.replace('lung_ct_scan','lung_ct_scan_renamed')\n",
    "    copyfile(old_name, new_name)\n",
    "        "
   ]
  },
  {
   "cell_type": "markdown",
   "metadata": {},
   "source": [
    "## Use dicom-contour module to get contours"
   ]
  },
  {
   "cell_type": "code",
   "execution_count": 5,
   "metadata": {},
   "outputs": [
    {
     "name": "stdout",
     "output_type": "stream",
     "text": [
      "SpinalCord\n",
      "Lung_R\n",
      "Lung_L\n",
      "Heart\n",
      "Esophagus\n"
     ]
    }
   ],
   "source": [
    "root = './lung_ct_scan_renamed'\n",
    "\n",
    "contour_filename = '1-1.dcm'\n",
    "\n",
    "contour_file_path = os.path.join(root, contour_filename)\n",
    "\n",
    "# Load RTSTRUCT dicom file\n",
    "contour_dc = pd.read_file(contour_file_path)\n",
    "\n",
    "# Check names of ROI contours\n",
    "roi_names = contour.get_roi_names(contour_dc)\n",
    "\n",
    "for name in roi_names:\n",
    "    print(name)"
   ]
  },
  {
   "cell_type": "code",
   "execution_count": 6,
   "metadata": {},
   "outputs": [
    {
     "name": "stdout",
     "output_type": "stream",
     "text": [
      "Scan shape: (130, 512, 512)\n",
      "Right lung shape: (130, 512, 512)\n",
      "Left lung shape: (130, 512, 512)\n"
     ]
    }
   ],
   "source": [
    "# Get the indices for right and left lung contours\n",
    "lung_r_idx = roi_names.index('Lung_R')\n",
    "lung_l_idx = roi_names.index('Lung_L')\n",
    "\n",
    "scan, lung_r_ctr = contour.get_data(root, lung_r_idx)\n",
    "_, lung_l_ctr = contour.get_data(root, lung_l_idx)\n",
    "\n",
    "print('Scan shape:', scan.shape)\n",
    "print('Right lung shape:', lung_r_ctr.shape)\n",
    "print('Left lung shape:', lung_l_ctr.shape)"
   ]
  },
  {
   "cell_type": "code",
   "execution_count": 11,
   "metadata": {},
   "outputs": [],
   "source": [
    "# Combine right and left lung contours\n",
    "lung_ctr = np.bitwise_or(lung_r_ctr, lung_l_ctr)\n",
    "\n",
    "# Convert arrays into 8-bit unsigned integer format for visualization with OpenCV\n",
    "scan = cv2.normalize(scan, None, 0, 255, cv2.NORM_MINMAX).astype('uint8')\n",
    "lung_ctr = cv2.normalize(lung_ctr, None, 0, 255, cv2.NORM_MINMAX).astype('uint8')\n",
    "\n",
    "# Loop through scan and contour array\n",
    "for img, ctr in zip(scan, lung_ctr):\n",
    "    \n",
    "    cv2.imshow('Lung CT', cv2.hconcat([img, ctr]))\n",
    "    cv2.waitKey(100)\n",
    "    \n",
    "cv2.destroyAllWindows()"
   ]
  },
  {
   "cell_type": "markdown",
   "metadata": {},
   "source": [
    "### Notice how the contours are acutally small dots - this is a problem\n",
    "### Solution: use image processing to join up the points together"
   ]
  },
  {
   "cell_type": "code",
   "execution_count": 73,
   "metadata": {},
   "outputs": [
    {
     "data": {
      "image/png": "[encoded data removed]",
      "text/plain": [
       "<Figure size 864x432 with 6 Axes>"
      ]
     },
     "metadata": {
      "needs_background": "light"
     },
     "output_type": "display_data"
    }
   ],
   "source": [
    "# Try using an example image\n",
    "ctr_img = lung_l_ctr[77]\n",
    "\n",
    "# Convert to unsigned 8-bit integer\n",
    "ctr_img = cv2.normalize(ctr_img, None, 0, 255, cv2.NORM_MINMAX).astype('uint8')\n",
    "ctr_img_show = ctr_img.copy()\n",
    "cv2.rectangle(ctr_img_show, (275,200), (400,375), 255, 2)\n",
    "cv2.putText(ctr_img_show, 'Close-up', (260, 175), cv2.FONT_HERSHEY_PLAIN, 2, 255, 3)\n",
    "\n",
    "# Dilation\n",
    "ksize = 9\n",
    "kernel = np.ones((ksize,ksize))\n",
    "ctr_img_dil = cv2.dilate(ctr_img, kernel, None, None, 5)\n",
    "\n",
    "# Flood-fill\n",
    "ctr_img_ff = ctr_img_dil.copy()\n",
    "ctr_img_ff = cv2.floodFill(ctr_img_ff, None, (0,0), 127)[1]\n",
    "ctr_img_ff[ctr_img_ff==0] = 255\n",
    "\n",
    "# Erosion\n",
    "ctr_img_ero = cv2.erode(ctr_img_ff, kernel, None, None, 5)\n",
    "\n",
    "# Mask image\n",
    "ctr_img_msk = (ctr_img_ero - 127) / 127\n",
    "\n",
    "plt.figure(figsize=(12,6))\n",
    "plt.subplot(2, 3, 1)\n",
    "plt.imshow(ctr_img_show[200:375, 275:400], 'gray', vmin=0, vmax=255)\n",
    "plt.title('Close-up')\n",
    "plt.subplot(2, 3, 2)\n",
    "plt.imshow(ctr_img_show, 'gray', vmin=0, vmax=255)\n",
    "plt.title('Contour Image')\n",
    "plt.subplot(2, 3, 3)\n",
    "plt.imshow(ctr_img_dil, 'gray', vmin=0, vmax=255)\n",
    "plt.title('Dilated')\n",
    "plt.subplot(2, 3, 4)\n",
    "plt.imshow(ctr_img_ff, 'gray', vmin=0, vmax=255)\n",
    "plt.title('Flood-filled')\n",
    "plt.subplot(2, 3, 5)\n",
    "plt.imshow(ctr_img_ero, 'gray', vmin=0, vmax=255)\n",
    "plt.title('Eroded')\n",
    "plt.subplot(2, 3, 6)\n",
    "plt.imshow(ctr_img_msk, 'gray', vmin=0, vmax=1)\n",
    "plt.title('Contour Mask')\n",
    "plt.tight_layout()\n",
    "plt.show()"
   ]
  },
  {
   "cell_type": "markdown",
   "metadata": {},
   "source": [
    "### Combine image processing algorithm into a function"
   ]
  },
  {
   "cell_type": "code",
   "execution_count": 79,
   "metadata": {},
   "outputs": [],
   "source": [
    "def join_points(lung_seg_im, ksize, num_morph):\n",
    "    \n",
    "    kernel = np.ones((ksize,ksize))\n",
    "    \n",
    "    lung_seg_im = cv2.dilate(lung_seg_im, kernel, None, None, \n",
    "                             num_morph)\n",
    "    \n",
    "    lung_seg_im = cv2.floodFill(lung_seg_im, None, (0,0), 127)[1]\n",
    "    \n",
    "    lung_seg_im[lung_seg_im==0] = 255\n",
    "    \n",
    "    lung_seg_im = cv2.erode(lung_seg_im, kernel, None, None, \n",
    "                            num_morph)\n",
    "\n",
    "    lung_seg_im = (lung_seg_im - 127) / 127\n",
    "    \n",
    "    return lung_seg_im.astype('uint8')"
   ]
  },
  {
   "cell_type": "markdown",
   "metadata": {},
   "source": [
    "## Use function to make contour masks then find outer contour"
   ]
  },
  {
   "cell_type": "code",
   "execution_count": 88,
   "metadata": {},
   "outputs": [],
   "source": [
    "scan = cv2.normalize(scan, None, 0, 255, cv2.NORM_MINMAX).astype('uint8')\n",
    "\n",
    "lung_r_ctr = cv2.normalize(lung_r_ctr, None, 0, 255, cv2.NORM_MINMAX).astype('uint8')\n",
    "lung_l_ctr = cv2.normalize(lung_l_ctr, None, 0, 255, cv2.NORM_MINMAX).astype('uint8')\n",
    "\n",
    "kernel = cv2.getStructuringElement(cv2.MORPH_RECT, (5,5))\n",
    "\n",
    "for img, ctr_r, ctr_l in zip(scan, lung_r_ctr, lung_l_ctr):\n",
    "    \n",
    "    ctr_r = join_points(ctr_r, 5, 8)\n",
    "    ctr_l = join_points(ctr_l, 5, 9)\n",
    "    \n",
    "    ctr = np.bitwise_or(ctr_r, ctr_l)\n",
    "    \n",
    "    ctrs, _ = cv2.findContours(ctr, cv2.RETR_EXTERNAL, cv2.CHAIN_APPROX_SIMPLE)\n",
    "    \n",
    "    img = cv2.merge([img, img, img]) # Convert grayscale into three channel image\n",
    "    \n",
    "    for ctr in ctrs:\n",
    "        \n",
    "        if ctr[0][0][0] < 256: # If first contour point is in the left half of the array\n",
    "            \n",
    "            cv2.drawContours(img, [ctr], 0, (0, 255, 0), 1)\n",
    "            \n",
    "        else:\n",
    "            \n",
    "            cv2.drawContours(img, [ctr], 0, (0, 0, 255), 1)\n",
    "\n",
    "    cv2.imshow('Lung CT', img)\n",
    "    cv2.waitKey(100)  \n",
    "\n",
    "cv2.destroyAllWindows() "
   ]
  },
  {
   "cell_type": "markdown",
   "metadata": {},
   "source": [
    "# Method 2: Extracting raw contour points from RTSTRUCT dicom file"
   ]
  },
  {
   "cell_type": "code",
   "execution_count": 86,
   "metadata": {},
   "outputs": [],
   "source": [
    "# Get dicom files for whole CT scan, convert into 3D array of 'uint8' data type\n",
    "\n",
    "filelist = glob('./lung_ct_scan/*.dcm')\n",
    "dicom_files = [pd.read_file(file) for file in filelist]\n",
    "dicom_files = [dc for dc in dicom_files if dc.Modality == 'CT']\n",
    "dicom_files.sort(key = lambda x: x.ImagePositionPatient[2])\n",
    "scan = np.array([dc.pixel_array for dc in dicom_files])\n",
    "scan = cv2.normalize(scan, None, 0, 255, cv2.NORM_MINMAX).astype('uint8')"
   ]
  },
  {
   "cell_type": "code",
   "execution_count": 83,
   "metadata": {},
   "outputs": [],
   "source": [
    "# Get data for transforming patient position coordinates into 3D array coordinates \n",
    "\n",
    "z_locs = np.array([dc.SliceLocation for dc in dicom_files])\n",
    "z_min, z_max = z_locs[0], z_locs[-1]\n",
    "\n",
    "z_n, x_n, y_n = scan.shape\n",
    "\n",
    "dc = dicom_files[0]\n",
    "\n",
    "x_min, y_min, _ = np.array(dc.ImagePositionPatient, np.float32)\n",
    "\n",
    "x_spacing, y_spacing = np.array(dc.PixelSpacing, np.float32)\n",
    "\n",
    "x_max = x_min + (x_n * x_spacing)\n",
    "y_max = y_min + (y_n * y_spacing)\n",
    "\n",
    "z_spacing = float(dc.SliceThickness)"
   ]
  },
  {
   "cell_type": "code",
   "execution_count": 90,
   "metadata": {},
   "outputs": [
    {
     "name": "stdout",
     "output_type": "stream",
     "text": [
      "1 SpinalCord\n",
      "104 frames\n",
      "2 Lung_R\n",
      "93 frames\n",
      "3 Lung_L\n",
      "82 frames\n",
      "4 Heart\n",
      "29 frames\n",
      "5 Esophagus\n",
      "74 frames\n"
     ]
    }
   ],
   "source": [
    "# Read RTSTRUCT dicomfile\n",
    "rt = pd.read_file('./lung_ct_scan/1-1.dcm')\n",
    "\n",
    "for i in range(len(rt.RTROIObservationsSequence)):\n",
    "\n",
    "    print(rt.RTROIObservationsSequence[i].ObservationNumber, rt.RTROIObservationsSequence[i].ROIObservationLabel)\n",
    "\n",
    "    print(len(rt.ROIContourSequence[i].ContourSequence), 'frames')\n",
    "    \n",
    "    label = rt.RTROIObservationsSequence[i].ROIObservationLabel\n",
    "\n",
    "    if label == 'Lung_L' or label == 'Lung_R':\n",
    "\n",
    "        for contour in rt.ROIContourSequence[i].ContourSequence:\n",
    "       \n",
    "            num_points = contour.NumberOfContourPoints\n",
    "            point_data = np.array(contour.ContourData).reshape((num_points, 3))\n",
    "            \n",
    "            # Normalize patient coordinates and convert to 3D array coordinates\n",
    "            point_data[:,0] = ((point_data[:,0] - x_min)/(x_max - x_min)) * (x_n - 1)\n",
    "            point_data[:,1] = ((point_data[:,1] - y_min)/(y_max - y_min)) * (y_n - 1)\n",
    "            point_data[:,2] = ((point_data[:,2] - z_min)/(z_max - z_min)) * (z_n - 1)\n",
    "\n",
    "            # Change to integers for indexing locations in 3D array\n",
    "            point_data = point_data.astype('int')\n",
    "\n",
    "            frame = point_data[0,2]\n",
    "            points = point_data[:,:2]\n",
    "\n",
    "            # Use cv2 to draw/fill contours\n",
    "            points = points.reshape((1,-1,2))\n",
    "            scan[frame] = cv2.drawContours(scan[frame], [points], -1, 255, 2)\n",
    "\n",
    "# Visualize CT images with contours\n",
    "for i in range(len(scan)):\n",
    "    cv2.imshow('window', scan[i])\n",
    "    cv2.waitKey(50)\n",
    "cv2.destroyAllWindows()"
   ]
  }
 ],
 "metadata": {
  "kernelspec": {
   "display_name": "Python 3",
   "language": "python",
   "name": "python3"
  },
  "language_info": {
   "codemirror_mode": {
    "name": "ipython",
    "version": 3
   },
   "file_extension": ".py",
   "mimetype": "text/x-python",
   "name": "python",
   "nbconvert_exporter": "python",
   "pygments_lexer": "ipython3",
   "version": "3.8.8"
  }
 },
 "nbformat": 4,
 "nbformat_minor": 2
}
