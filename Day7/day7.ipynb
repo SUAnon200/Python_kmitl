{
 "cells": [
  {
   "cell_type": "markdown",
   "id": "72776924",
   "metadata": {},
   "source": [
    "# String"
   ]
  },
  {
   "cell_type": "markdown",
   "id": "9c735f63",
   "metadata": {},
   "source": [
    "check point 1"
   ]
  },
  {
   "cell_type": "code",
   "execution_count": 1,
   "id": "84d33da7",
   "metadata": {},
   "outputs": [
    {
     "ename": "NameError",
     "evalue": "name 'text' is not defined",
     "output_type": "error",
     "traceback": [
      "\u001b[0;31m---------------------------------------------------------------------------\u001b[0m",
      "\u001b[0;31mNameError\u001b[0m                                 Traceback (most recent call last)",
      "\u001b[0;32m/var/folders/mn/3ryw_8dd0ks986n701xt6b_c0000gn/T/ipykernel_38807/720061600.py\u001b[0m in \u001b[0;36m<module>\u001b[0;34m\u001b[0m\n\u001b[1;32m      2\u001b[0m \u001b[0;31m#print last index\u001b[0m\u001b[0;34m\u001b[0m\u001b[0;34m\u001b[0m\u001b[0;34m\u001b[0m\u001b[0m\n\u001b[1;32m      3\u001b[0m \u001b[0;34m\u001b[0m\u001b[0m\n\u001b[0;32m----> 4\u001b[0;31m \u001b[0mprint\u001b[0m\u001b[0;34m(\u001b[0m\u001b[0mtext\u001b[0m\u001b[0;34m[\u001b[0m\u001b[0;34m-\u001b[0m\u001b[0;36m1\u001b[0m\u001b[0;34m]\u001b[0m\u001b[0;34m)\u001b[0m\u001b[0;34m\u001b[0m\u001b[0;34m\u001b[0m\u001b[0m\n\u001b[0m\u001b[1;32m      5\u001b[0m \u001b[0mtxt\u001b[0m\u001b[0;34m[\u001b[0m\u001b[0;34m-\u001b[0m\u001b[0;36m1\u001b[0m\u001b[0;34m]\u001b[0m\u001b[0;34m=\u001b[0m\u001b[0;34m'g'\u001b[0m\u001b[0;34m\u001b[0m\u001b[0;34m\u001b[0m\u001b[0m\n",
      "\u001b[0;31mNameError\u001b[0m: name 'text' is not defined"
     ]
    }
   ],
   "source": [
    "txt = \"programmind\"\n",
    "#print last index\n",
    "\n",
    "print(text[-1])\n",
    "txt[-1]='g'"
   ]
  },
  {
   "cell_type": "markdown",
   "id": "7d5fdcc0",
   "metadata": {},
   "source": [
    "check point2"
   ]
  },
  {
   "cell_type": "code",
   "execution_count": 2,
   "id": "44b6e074",
   "metadata": {},
   "outputs": [
    {
     "name": "stdout",
     "output_type": "stream",
     "text": [
      "He said, \"What's there\"\n",
      "He said, \"What's there\"\n",
      "He said, \"What's there\"\n"
     ]
    }
   ],
   "source": [
    "print('''He said, \"What's there\"''')\n",
    "\n",
    "#escape single quote\n",
    "print('He said, \"What\\'s there\"')\n",
    "\n",
    "#escape double quote\n",
    "print(\"He said, \\\"What's there\\\"\")"
   ]
  },
  {
   "cell_type": "code",
   "execution_count": 4,
   "id": "1f42c7c9",
   "metadata": {},
   "outputs": [
    {
     "name": "stdout",
     "output_type": "stream",
     "text": [
      "/Users/anon/Documents/GitHub/Python_kmitl/Day7\n"
     ]
    }
   ],
   "source": [
    "file_location = '/Users/anon/Documents/GitHub/Python_kmitl/Day7'\n",
    "print(file_location)"
   ]
  },
  {
   "cell_type": "markdown",
   "id": "1111e690",
   "metadata": {},
   "source": [
    "check point3"
   ]
  },
  {
   "cell_type": "code",
   "execution_count": 5,
   "id": "f4ccd333",
   "metadata": {},
   "outputs": [
    {
     "name": "stdout",
     "output_type": "stream",
     "text": [
      "False\n",
      "True\n"
     ]
    }
   ],
   "source": [
    "txt = \"Hello\"\n",
    "#in operator\n",
    "print(\"h\" in txt)\n",
    "\n",
    "#nor in operator\n",
    "print(\"h\" not in txt)"
   ]
  },
  {
   "cell_type": "markdown",
   "id": "f3c0bcca",
   "metadata": {},
   "source": [
    "check point 4"
   ]
  },
  {
   "cell_type": "code",
   "execution_count": 14,
   "id": "43462ebc",
   "metadata": {},
   "outputs": [
    {
     "name": "stdout",
     "output_type": "stream",
     "text": [
      "Hello Anon\n",
      "Anon is 20 years old.\n"
     ]
    }
   ],
   "source": [
    "name = \"Anon\"\n",
    "age = 20\n",
    "print(\"Hello %s\\n%s is %d years old.\" %(name,name,age))"
   ]
  },
  {
   "cell_type": "markdown",
   "id": "2a751948",
   "metadata": {},
   "source": [
    "check point5"
   ]
  },
  {
   "cell_type": "code",
   "execution_count": 4,
   "id": "55fb97a9",
   "metadata": {},
   "outputs": [
    {
     "name": "stdout",
     "output_type": "stream",
     "text": [
      "John, Bill and Sean\n",
      "Sean, John and Bill\n",
      "Bill, John and Sean\n"
     ]
    }
   ],
   "source": [
    "#default order\n",
    "str = \"{}, {} and {}\".format('John','Bill','Sean')\n",
    "print(str)\n",
    "\n",
    "#positional order\n",
    "str = \"{2}, {0} and {1}\".format('John','Bill','Sean')\n",
    "print(str)\n",
    "\n",
    "#keyward order\n",
    "str = \"{b}, {a} and {c}\".format(a ='John',b ='Bill',c ='Sean')\n",
    "print(str)"
   ]
  },
  {
   "cell_type": "markdown",
   "id": "56b89fe8",
   "metadata": {},
   "source": [
    "check point6"
   ]
  },
  {
   "cell_type": "code",
   "execution_count": 7,
   "id": "f5bd6490",
   "metadata": {},
   "outputs": [
    {
     "name": "stdout",
     "output_type": "stream",
     "text": [
      "Binary representation of 11 is 1011\n",
      "\n",
      "Floating representation of 0.2 is 0.200\n",
      "\n",
      "Exponential representation of 0.2 is 2.000000e-01\n",
      "\n",
      "| HIT        |    BMI     |      PDENT\n"
     ]
    }
   ],
   "source": [
    "#binary format\n",
    "num = 10\n",
    "print(\"Binary representation of {0} is {0:b}\".format(11))\n",
    "\n",
    "#floating point format\n",
    "num = 10\n",
    "print(\"\\nFloating representation of {0} is {0:.3f}\".format(11/55))\n",
    "\n",
    "#floating point format\n",
    "num = 10\n",
    "print(\"\\nExponential representation of {0} is {0:e}\".format(11/55))\n",
    "\n",
    "#sting alignment\n",
    "num = 10\n",
    "print(\"\\n| {:<10} | {:^10} | {:>10}\".format('HIT','BMI','PDENT'))"
   ]
  },
  {
   "cell_type": "markdown",
   "id": "d0dae31e",
   "metadata": {},
   "source": [
    "check point7"
   ]
  },
  {
   "cell_type": "code",
   "execution_count": 8,
   "id": "458ad197",
   "metadata": {},
   "outputs": [
    {
     "name": "stdout",
     "output_type": "stream",
     "text": [
      "Lenght of the string :10\n",
      "\n",
      "Enumerate: [(0, 'b'), (1, 'i'), (2, 'o'), (3, 'm'), (4, 'e'), (5, 'd'), (6, 'i'), (7, 'c'), (8, 'a'), (9, 'l')] \n"
     ]
    }
   ],
   "source": [
    "str ='biomedical'\n",
    "\n",
    "#character count\n",
    "print('Lenght of the string :{}\\n'.format(len(str)))\n",
    "\n",
    "#enumerate()\n",
    "list_enumerate = list(enumerate(str))\n",
    "print('Enumerate: {} '.format(list_enumerate))"
   ]
  },
  {
   "cell_type": "code",
   "execution_count": null,
   "id": "6232d684",
   "metadata": {},
   "outputs": [],
   "source": []
  }
 ],
 "metadata": {
  "interpreter": {
   "hash": "aee8b7b246df8f9039afb4144a1f6fd8d2ca17a180786b69acc140d282b71a49"
  },
  "kernelspec": {
   "display_name": "Python 3.9.6 64-bit",
   "language": "python",
   "name": "python396jvsc74a57bd0aee8b7b246df8f9039afb4144a1f6fd8d2ca17a180786b69acc140d282b71a49"
  },
  "language_info": {
   "codemirror_mode": {
    "name": "ipython",
    "version": 3
   },
   "file_extension": ".py",
   "mimetype": "text/x-python",
   "name": "python",
   "nbconvert_exporter": "python",
   "pygments_lexer": "ipython3",
   "version": "3.9.6"
  }
 },
 "nbformat": 4,
 "nbformat_minor": 5
}
