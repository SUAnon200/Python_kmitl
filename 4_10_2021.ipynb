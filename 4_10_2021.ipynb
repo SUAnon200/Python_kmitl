{
 "cells": [
  {
   "cell_type": "markdown",
   "id": "cee0e833",
   "metadata": {},
   "source": [
    "first check point"
   ]
  },
  {
   "cell_type": "code",
   "execution_count": 2,
   "id": "883437ed",
   "metadata": {},
   "outputs": [
    {
     "data": {
      "text/plain": [
       "18"
      ]
     },
     "execution_count": 2,
     "metadata": {},
     "output_type": "execute_result"
    }
   ],
   "source": [
    "#Writing text file:\n",
    "\n",
    "file = open('test.txt','w')\n",
    "file.write('Test writing files')"
   ]
  },
  {
   "cell_type": "code",
   "execution_count": 3,
   "id": "6e5ccdb4",
   "metadata": {},
   "outputs": [
    {
     "data": {
      "text/plain": [
       "21"
      ]
     },
     "execution_count": 3,
     "metadata": {},
     "output_type": "execute_result"
    }
   ],
   "source": [
    "file.write('\\nTest writing files_2')"
   ]
  },
  {
   "cell_type": "code",
   "execution_count": 4,
   "id": "33e2371a",
   "metadata": {},
   "outputs": [],
   "source": [
    "file.close()"
   ]
  },
  {
   "cell_type": "markdown",
   "id": "3e8c3450",
   "metadata": {},
   "source": [
    "second check point"
   ]
  },
  {
   "cell_type": "code",
   "execution_count": 5,
   "id": "98341ae3",
   "metadata": {},
   "outputs": [
    {
     "data": {
      "text/plain": [
       "'/Users/anon/Documents/GitHub/Python_kmitl'"
      ]
     },
     "execution_count": 5,
     "metadata": {},
     "output_type": "execute_result"
    }
   ],
   "source": [
    "#Test Changedir\n",
    "import os\n",
    "os.getcwd()"
   ]
  },
  {
   "cell_type": "code",
   "execution_count": 8,
   "id": "a2abcdc2",
   "metadata": {},
   "outputs": [
    {
     "ename": "FileExistsError",
     "evalue": "[Errno 17] File exists: '/Users/anon/Documents/GitHub'",
     "output_type": "error",
     "traceback": [
      "\u001b[0;31m---------------------------------------------------------------------------\u001b[0m",
      "\u001b[0;31mFileExistsError\u001b[0m                           Traceback (most recent call last)",
      "\u001b[0;32m<ipython-input-8-14fd44c9a296>\u001b[0m in \u001b[0;36m<module>\u001b[0;34m\u001b[0m\n\u001b[0;32m----> 1\u001b[0;31m \u001b[0mos\u001b[0m\u001b[0;34m.\u001b[0m\u001b[0mmkdir\u001b[0m\u001b[0;34m(\u001b[0m\u001b[0;34m\"/Users/anon/Documents/GitHub\"\u001b[0m\u001b[0;34m)\u001b[0m\u001b[0;34m\u001b[0m\u001b[0;34m\u001b[0m\u001b[0m\n\u001b[0m",
      "\u001b[0;31mFileExistsError\u001b[0m: [Errno 17] File exists: '/Users/anon/Documents/GitHub'"
     ]
    }
   ],
   "source": [
    "os.mkdir(\"/Users/anon/Documents/GitHub\")"
   ]
  },
  {
   "cell_type": "code",
   "execution_count": null,
   "id": "f8efaa9e",
   "metadata": {},
   "outputs": [],
   "source": []
  }
 ],
 "metadata": {
  "kernelspec": {
   "display_name": "Python 3",
   "language": "python",
   "name": "python3"
  },
  "language_info": {
   "codemirror_mode": {
    "name": "ipython",
    "version": 3
   },
   "file_extension": ".py",
   "mimetype": "text/x-python",
   "name": "python",
   "nbconvert_exporter": "python",
   "pygments_lexer": "ipython3",
   "version": "3.8.8"
  }
 },
 "nbformat": 4,
 "nbformat_minor": 5
}
