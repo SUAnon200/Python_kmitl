{
 "cells": [
  {
   "cell_type": "markdown",
   "id": "cffcadbf",
   "metadata": {},
   "source": [
    "# Check point 6"
   ]
  },
  {
   "cell_type": "markdown",
   "id": "4b75f336",
   "metadata": {},
   "source": [
    "Creating sets using Tuple and list"
   ]
  },
  {
   "cell_type": "code",
   "execution_count": 2,
   "id": "6d3b8e38",
   "metadata": {},
   "outputs": [
    {
     "name": "stdout",
     "output_type": "stream",
     "text": [
      "Data type of t is: <class 'tuple'>\n",
      "Data type of set is: <class 'set'>\n"
     ]
    }
   ],
   "source": [
    "t = (1,3,4)\n",
    "print(\"Data type of t is:\",type(t))\n",
    "\n",
    "set1={'aa', False, t, 0.4, 'bb'}\n",
    "print(\"Data type of set is:\",type(set1))"
   ]
  },
  {
   "cell_type": "code",
   "execution_count": null,
   "id": "4606be76",
   "metadata": {},
   "outputs": [],
   "source": [
    "t = [1,3,4]\n",
    "print(\"Data type of t is:\",type(t))\n",
    "\n",
    "s={'aa',False,t,0.4,'bb'}\n",
    "print(\"Data type of set is:\",type(s))"
   ]
  },
  {
   "cell_type": "markdown",
   "id": "08334920",
   "metadata": {},
   "source": [
    "# Check point 5"
   ]
  },
  {
   "cell_type": "code",
   "execution_count": 3,
   "id": "92357c9a",
   "metadata": {},
   "outputs": [
    {
     "name": "stdout",
     "output_type": "stream",
     "text": [
      "{'moon'}\n",
      "{'m', 'n', 'o'}\n"
     ]
    }
   ],
   "source": [
    "str='moon'\n",
    "set1 = {str}\n",
    "print(set1)\n",
    "\n",
    "set2 = set(str1)\n",
    "print(set2)"
   ]
  },
  {
   "cell_type": "markdown",
   "id": "0ad8d3c5",
   "metadata": {},
   "source": [
    "# Check point 4"
   ]
  },
  {
   "cell_type": "markdown",
   "id": "ee30df8b",
   "metadata": {},
   "source": [
    "Create sets in python"
   ]
  },
  {
   "cell_type": "code",
   "execution_count": 5,
   "id": "a01dfb28",
   "metadata": {},
   "outputs": [
    {
     "name": "stdout",
     "output_type": "stream",
     "text": [
      "<class 'tuple'>\n",
      "<class 'set'>\n",
      "{1, 2, 3, 4, 5, 'aa'}\n"
     ]
    }
   ],
   "source": [
    "tuple1 = (1,2,3,4,5,'aa')\n",
    "print(type(tuple1))\n",
    "\n",
    "set1 = set(tuple1)\n",
    "print(type(set1))\n",
    "\n",
    "print(set1)"
   ]
  },
  {
   "cell_type": "code",
   "execution_count": 6,
   "id": "9aec77c9",
   "metadata": {},
   "outputs": [
    {
     "name": "stdout",
     "output_type": "stream",
     "text": [
      "<class 'str'>\n",
      "<class 'set'>\n",
      "{'o', 'h', 'n', 'y', 'p', 't'}\n"
     ]
    }
   ],
   "source": [
    "string = 'python'\n",
    "print(type(string))\n",
    "\n",
    "set1 = set(string)\n",
    "print(type(set1))\n",
    "\n",
    "print(set1)"
   ]
  },
  {
   "cell_type": "markdown",
   "id": "1131dc60",
   "metadata": {},
   "source": [
    "# Check point 3"
   ]
  },
  {
   "cell_type": "code",
   "execution_count": 11,
   "id": "b01ff058",
   "metadata": {},
   "outputs": [
    {
     "name": "stdout",
     "output_type": "stream",
     "text": [
      "0 aa\n",
      "1 bb\n",
      "2 0.5\n",
      "3 0.33\n"
     ]
    }
   ],
   "source": [
    "x = ('aa','bb',0.5,0.33)\n",
    "for i,v in enumerate(x):\n",
    "    print(i,v)"
   ]
  },
  {
   "cell_type": "code",
   "execution_count": 14,
   "id": "a22d2da0",
   "metadata": {},
   "outputs": [
    {
     "name": "stdout",
     "output_type": "stream",
     "text": [
      "The count of 7 in the tuple 2\n",
      "The index of aa in the tuple 5\n"
     ]
    }
   ],
   "source": [
    "tuple1 = (1,3,7,8,7,'aa')\n",
    "print('The count of 7 in the tuple', tuple1.count(7))\n",
    "print('The index of aa in the tuple', tuple1.index('aa'))"
   ]
  },
  {
   "cell_type": "markdown",
   "id": "2972d50f",
   "metadata": {},
   "source": [
    "# Check point 2"
   ]
  },
  {
   "cell_type": "markdown",
   "id": "82804c79",
   "metadata": {},
   "source": [
    "append and remove"
   ]
  },
  {
   "cell_type": "code",
   "execution_count": 12,
   "id": "d3b8ccfa",
   "metadata": {},
   "outputs": [
    {
     "name": "stdout",
     "output_type": "stream",
     "text": [
      "Before Appending: ('aa', 'bb', 0.5, 0.33)\n",
      "After Appending: ('aa', 'bb', 0.5, 0.33, 'cc')\n"
     ]
    }
   ],
   "source": [
    "x = ('aa','bb',0.5,0.33)\n",
    "print('Before Appending:',x)\n",
    "x_tmp = list(x)\n",
    "x_tmp.append('cc')\n",
    "x = tuple(x_tmp)\n",
    "print('After Appending:',x)"
   ]
  },
  {
   "cell_type": "code",
   "execution_count": 13,
   "id": "dc90bcbe",
   "metadata": {},
   "outputs": [
    {
     "name": "stdout",
     "output_type": "stream",
     "text": [
      "Before Removing: ('aa', 'bb', 0.5, 0.33)\n",
      "After Removing: ('aa', 0.5, 0.33)\n"
     ]
    }
   ],
   "source": [
    "x = ('aa','bb',0.5,0.33)\n",
    "print('Before Removing:',x)\n",
    "x_tmp = list(x)\n",
    "x_tmp.remove('bb')\n",
    "x = tuple(x_tmp)\n",
    "print('After Removing:',x)"
   ]
  },
  {
   "cell_type": "markdown",
   "id": "6fd73b02",
   "metadata": {},
   "source": [
    "# Check point 1"
   ]
  },
  {
   "cell_type": "markdown",
   "id": "3a4f14fc",
   "metadata": {},
   "source": [
    "Update tuples"
   ]
  },
  {
   "cell_type": "code",
   "execution_count": 15,
   "id": "b2f28bb9",
   "metadata": {},
   "outputs": [
    {
     "name": "stdout",
     "output_type": "stream",
     "text": [
      "['aa', 'cc', 0.5, 0.33]\n",
      "('aa', 'cc', 0.5, 0.33)\n"
     ]
    }
   ],
   "source": [
    "x = ('aa','bb',0.5,0.33)\n",
    "x_list = list(x)\n",
    "x_list[1] = 'cc'\n",
    "print(x_list)\n",
    "x = tuple(x_list)\n",
    "print(x)"
   ]
  },
  {
   "cell_type": "code",
   "execution_count": null,
   "id": "cf3f0166",
   "metadata": {},
   "outputs": [],
   "source": []
  }
 ],
 "metadata": {
  "kernelspec": {
   "display_name": "Python 3",
   "language": "python",
   "name": "python3"
  },
  "language_info": {
   "codemirror_mode": {
    "name": "ipython",
    "version": 3
   },
   "file_extension": ".py",
   "mimetype": "text/x-python",
   "name": "python",
   "nbconvert_exporter": "python",
   "pygments_lexer": "ipython3",
   "version": "3.8.8"
  }
 },
 "nbformat": 4,
 "nbformat_minor": 5
}
