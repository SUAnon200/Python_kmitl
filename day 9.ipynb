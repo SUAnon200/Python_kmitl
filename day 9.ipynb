{
 "cells": [
  {
   "cell_type": "markdown",
   "id": "e2fe0c66",
   "metadata": {},
   "source": [
    "# Check point1"
   ]
  },
  {
   "cell_type": "code",
   "execution_count": 1,
   "id": "39a85053",
   "metadata": {},
   "outputs": [
    {
     "data": {
      "text/plain": [
       "dict"
      ]
     },
     "execution_count": 1,
     "metadata": {},
     "output_type": "execute_result"
    }
   ],
   "source": [
    "d = {'Name':'Anon','Age':20,'class':'BME'}\n",
    "type(d)"
   ]
  },
  {
   "cell_type": "code",
   "execution_count": 2,
   "id": "7be9a704",
   "metadata": {},
   "outputs": [
    {
     "data": {
      "text/plain": [
       "dict"
      ]
     },
     "execution_count": 2,
     "metadata": {},
     "output_type": "execute_result"
    }
   ],
   "source": [
    "colour = {'Red':10,'Yellow':20}\n",
    "type(colour)"
   ]
  },
  {
   "cell_type": "code",
   "execution_count": 3,
   "id": "43a6e2a0",
   "metadata": {},
   "outputs": [
    {
     "data": {
      "text/plain": [
       "dict"
      ]
     },
     "execution_count": 3,
     "metadata": {},
     "output_type": "execute_result"
    }
   ],
   "source": [
    "student = {'name':'Anon','Age':20,'Job':'student'}\n",
    "type(student)"
   ]
  },
  {
   "cell_type": "markdown",
   "id": "8b68a31f",
   "metadata": {},
   "source": [
    "# Check point2"
   ]
  },
  {
   "cell_type": "code",
   "execution_count": 4,
   "id": "16356460",
   "metadata": {},
   "outputs": [
    {
     "name": "stdout",
     "output_type": "stream",
     "text": [
      "Check before added: {'name': 'Anon', 'Age': 20, 'Job': 'student'}\n",
      "Check after added: {'name': 'Anon', 'Age': 20, 'Job': 'student', 'ID': 62011090}\n"
     ]
    }
   ],
   "source": [
    "#added dict collection\n",
    "student = {'name':'Anon' , 'Age':20 , 'Job':'student'}\n",
    "print(\"Check before added:\",student)\n",
    "\n",
    "student['ID']=62011090\n",
    "print(\"Check after added:\",student)"
   ]
  },
  {
   "cell_type": "markdown",
   "id": "c6ecde0a",
   "metadata": {},
   "source": [
    "# Check point3"
   ]
  },
  {
   "cell_type": "code",
   "execution_count": 5,
   "id": "4c273763",
   "metadata": {},
   "outputs": [
    {
     "name": "stdout",
     "output_type": "stream",
     "text": [
      "Check before updated: {'name': 'Anon', 'Age': 20, 'Job': 'student'}\n",
      "Check after updated: {'name': 'Anon', 'Age': 20, 'Job': 'student', 'Name': 'Joe'}\n"
     ]
    }
   ],
   "source": [
    "#update value\n",
    "student = {'name':'Anon' , 'Age':20 , 'Job':'student'}\n",
    "print(\"Check before updated:\",student)\n",
    "\n",
    "student['Name']='Joe'\n",
    "print(\"Check after updated:\",student)"
   ]
  },
  {
   "cell_type": "code",
   "execution_count": 6,
   "id": "e4a55663",
   "metadata": {},
   "outputs": [
    {
     "name": "stdout",
     "output_type": "stream",
     "text": [
      "Check before updated: {'name': 'Anon', 'Age': 20, 'Job': 'student'}\n"
     ]
    },
    {
     "ename": "KeyError",
     "evalue": "'Name2'",
     "output_type": "error",
     "traceback": [
      "\u001b[1;31m---------------------------------------------------------------------------\u001b[0m",
      "\u001b[1;31mKeyError\u001b[0m                                  Traceback (most recent call last)",
      "\u001b[1;32m<ipython-input-6-646b8641895e>\u001b[0m in \u001b[0;36m<module>\u001b[1;34m\u001b[0m\n\u001b[0;32m      3\u001b[0m \u001b[0mprint\u001b[0m\u001b[1;33m(\u001b[0m\u001b[1;34m\"Check before updated:\"\u001b[0m\u001b[1;33m,\u001b[0m\u001b[0mstudent\u001b[0m\u001b[1;33m)\u001b[0m\u001b[1;33m\u001b[0m\u001b[1;33m\u001b[0m\u001b[0m\n\u001b[0;32m      4\u001b[0m \u001b[1;33m\u001b[0m\u001b[0m\n\u001b[1;32m----> 5\u001b[1;33m \u001b[0mstudent\u001b[0m\u001b[1;33m[\u001b[0m\u001b[1;34m'Name'\u001b[0m\u001b[1;33m]\u001b[0m\u001b[1;33m=\u001b[0m\u001b[0mstudent\u001b[0m\u001b[1;33m[\u001b[0m\u001b[1;34m'Name2'\u001b[0m\u001b[1;33m]\u001b[0m\u001b[1;33m\u001b[0m\u001b[1;33m\u001b[0m\u001b[0m\n\u001b[0m\u001b[0;32m      6\u001b[0m \u001b[0mprint\u001b[0m\u001b[1;33m(\u001b[0m\u001b[1;34m\"Check after updated:\"\u001b[0m\u001b[1;33m,\u001b[0m\u001b[0mstudent\u001b[0m\u001b[1;33m)\u001b[0m\u001b[1;33m\u001b[0m\u001b[1;33m\u001b[0m\u001b[0m\n",
      "\u001b[1;31mKeyError\u001b[0m: 'Name2'"
     ]
    }
   ],
   "source": [
    "#update key\n",
    "student = {'name':'Anon' , 'Age':20 , 'Job':'student'}\n",
    "print(\"Check before updated:\",student)\n",
    "\n",
    "student['Name']=student['Name2']\n",
    "print(\"Check after updated:\",student)"
   ]
  },
  {
   "cell_type": "code",
   "execution_count": 7,
   "id": "0b4e52e6",
   "metadata": {},
   "outputs": [
    {
     "name": "stdout",
     "output_type": "stream",
     "text": [
      "Check before updated: {'name': 'Anon', 'Age': 20, 'Job': 'student'}\n",
      "Check after updated: {'name': 'Anon', 'Job': 'student'}\n"
     ]
    }
   ],
   "source": [
    "#delete \n",
    "student = {'name':'Anon' , 'Age':20 , 'Job':'student'}\n",
    "print(\"Check before updated:\",student)\n",
    "\n",
    "del student['Age']\n",
    "print(\"Check after updated:\",student)"
   ]
  },
  {
   "cell_type": "markdown",
   "id": "64464ec0",
   "metadata": {},
   "source": [
    "# Check point4"
   ]
  },
  {
   "cell_type": "code",
   "execution_count": 8,
   "id": "61890d9f",
   "metadata": {},
   "outputs": [
    {
     "data": {
      "text/plain": [
       "'Hand Gel'"
      ]
     },
     "execution_count": 8,
     "metadata": {},
     "output_type": "execute_result"
    }
   ],
   "source": [
    "shoplist = {0:'Hand Gel',1:'Shampoo',2:'Soap'}\n",
    "type(shoplist)\n",
    "\n",
    "shoplist[0]"
   ]
  },
  {
   "cell_type": "code",
   "execution_count": null,
   "id": "06268951",
   "metadata": {},
   "outputs": [],
   "source": []
  }
 ],
 "metadata": {
  "kernelspec": {
   "display_name": "Python 3",
   "language": "python",
   "name": "python3"
  },
  "language_info": {
   "codemirror_mode": {
    "name": "ipython",
    "version": 3
   },
   "file_extension": ".py",
   "mimetype": "text/x-python",
   "name": "python",
   "nbconvert_exporter": "python",
   "pygments_lexer": "ipython3",
   "version": "3.8.8"
  }
 },
 "nbformat": 4,
 "nbformat_minor": 5
}
