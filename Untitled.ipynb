{
 "cells": [
  {
   "cell_type": "code",
   "execution_count": 2,
   "id": "24fce7af",
   "metadata": {},
   "outputs": [
    {
     "name": "stdout",
     "output_type": "stream",
     "text": [
      "Requirement already satisfied: opencv-python in /Users/anon/opt/anaconda3/lib/python3.8/site-packages (4.5.4.58)\n",
      "Requirement already satisfied: numpy>=1.17.3 in /Users/anon/opt/anaconda3/lib/python3.8/site-packages (from opencv-python) (1.20.1)\n",
      "Note: you may need to restart the kernel to use updated packages.\n"
     ]
    }
   ],
   "source": [
    "pip install opencv-python"
   ]
  },
  {
   "cell_type": "code",
   "execution_count": 3,
   "id": "c94fefde",
   "metadata": {},
   "outputs": [],
   "source": [
    "import matplotlib.pyplot as plt\n",
    "import cv2\n",
    "import numpy as np"
   ]
  },
  {
   "cell_type": "code",
   "execution_count": 6,
   "id": "06eb0caa",
   "metadata": {},
   "outputs": [
    {
     "data": {
      "image/png": "[encoded data removed]",
      "text/plain": [
       "<Figure size 432x288 with 1 Axes>"
      ]
     },
     "metadata": {
      "needs_background": "light"
     },
     "output_type": "display_data"
    }
   ],
   "source": [
    "r = np.zeros((300,500),np.uint8)\n",
    "g = np.zeros((300,500),np.uint8)\n",
    "b = np.zeros((300,500),np.uint8)\n",
    "\n",
    "r = cv2.rectangle(r,(0,0),(140,300),255,-1)\n",
    "g = cv2.rectangle(g,(140,0),(360,300),255,-1)\n",
    "b = cv2.rectangle(b,(360,0),(500,300),255,-1)\n",
    "\n",
    "rgb = np.zeros((300,500,3),np.uint8)\n",
    "\n",
    "rgb[...,0] = r\n",
    "rgb[...,1] = g\n",
    "rgb[...,2] = b\n",
    "\n",
    "rgb = cv2.rectangle(rgb,(140,0),(200,300),(255,255,0),-1)\n",
    "rgb = cv2.rectangle(rgb,(300,0),(362,300),(0,255,255),-1)\n",
    "\n",
    "plt.plot()\n",
    "plt.imshow(rgb)\n",
    "plt.show()"
   ]
  },
  {
   "cell_type": "code",
   "execution_count": null,
   "id": "30f2d433",
   "metadata": {},
   "outputs": [],
   "source": [
    "import numpy as np\n",
    "import matplotlib.pyplot as plt\n",
    "img = np.zeros((500 , 500, 3),np.uint8)\n",
    "cv2.circle(img,(250,250),250,(0,255,255),-1)\n",
    "cv2.circle(img,(375,125),25,(0,0,0),-1)\n",
    "plg =np.array([[250,250],[500,250],[500,500]])\n",
    "cv2.fillPoly(img,[plg],(0,0,0))\n",
    "    \n",
    "cv2.imshow('Pacman',img)\n",
    "cv2.waitKey(0)\n",
    "cv2.destroyAllWindows()"
   ]
  },
  {
   "cell_type": "code",
   "execution_count": 8,
   "id": "9cc9c9b5",
   "metadata": {},
   "outputs": [
    {
     "data": {
      "text/plain": [
       "<function matplotlib.pyplot.show(close=None, block=None)>"
      ]
     },
     "execution_count": 8,
     "metadata": {},
     "output_type": "execute_result"
    },
    {
     "data": {
      "image/png": "[encoded data removed]",
      "text/plain": [
       "<Figure size 432x288 with 1 Axes>"
      ]
     },
     "metadata": {
      "needs_background": "light"
     },
     "output_type": "display_data"
    }
   ],
   "source": [
    "import numpy as np\n",
    "import matplotlib.pyplot as plt\n",
    "L = 800\n",
    "R = np.zeros((100, L, 3),dtype=np.uint8)\n",
    "R[:,:,0]=255\n",
    "\n",
    "W=np.zeros((100,L,3),dtype=np.uint8) +255\n",
    "B=np.zeros((200,L,3),dtype=np.uint8)\n",
    "B[:,:,2]=255\n",
    "\n",
    "THAI = np.concatenate((R,W,B,W,R), axis=0)\n",
    "plt.imshow(THAI)\n",
    "plt.show\n"
   ]
  },
  {
   "cell_type": "code",
   "execution_count": 1,
   "id": "fb24ab68",
   "metadata": {},
   "outputs": [],
   "source": [
    "from turtle import *\n",
    "\n",
    "speed(0)\n",
    "setup(800, 500)\n",
    "bgcolor(\"royalblue\")\n",
    "\n",
    "penup()\n",
    "goto(-400, 250)\n",
    "pendown()\n",
    "pensize(65)\n",
    "\n",
    "color(\"white\")\n",
    "right(31.85)\n",
    "forward(920)\n",
    "\n",
    "penup()\n",
    "goto(-410, -250)\n",
    "pendown()\n",
    "\n",
    "right(296.3)\n",
    "forward(920)\n",
    "\n",
    "hideturtle()"
   ]
  },
  {
   "cell_type": "code",
   "execution_count": null,
   "id": "51a96805",
   "metadata": {},
   "outputs": [],
   "source": []
  },
  {
   "cell_type": "code",
   "execution_count": null,
   "id": "0edb3cbc",
   "metadata": {},
   "outputs": [],
   "source": []
  }
 ],
 "metadata": {
  "kernelspec": {
   "display_name": "Python 3",
   "language": "python",
   "name": "python3"
  },
  "language_info": {
   "codemirror_mode": {
    "name": "ipython",
    "version": 3
   },
   "file_extension": ".py",
   "mimetype": "text/x-python",
   "name": "python",
   "nbconvert_exporter": "python",
   "pygments_lexer": "ipython3",
   "version": "3.8.8"
  }
 },
 "nbformat": 4,
 "nbformat_minor": 5
}
