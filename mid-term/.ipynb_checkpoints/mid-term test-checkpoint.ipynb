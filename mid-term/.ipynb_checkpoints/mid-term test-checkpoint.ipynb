{
 "cells": [
  {
   "cell_type": "markdown",
   "id": "91412272",
   "metadata": {},
   "source": [
    "# Midterm-Test"
   ]
  },
  {
   "cell_type": "markdown",
   "id": "8da63526",
   "metadata": {},
   "source": [
    "1.(a) A list X has 10 values as shown in Figure 1. Write a python  code  to  convert  X  to  the  values  as  shown  in Figure 2. Hint: you can use looping and mathematical calculations."
   ]
  },
  {
   "cell_type": "code",
   "execution_count": 13,
   "id": "778ceafd",
   "metadata": {},
   "outputs": [
    {
     "name": "stdout",
     "output_type": "stream",
     "text": [
      "[2.0, 3.5, 5.0, 6.5, 8.0, 9.5, 11.0, 12.5, 14.0, 15.5]\n"
     ]
    }
   ],
   "source": [
    "#normal\n",
    "x=[1.0,1.0,1.0,1.0,1.0,1.0,1.0,1.0,1.0,1.0]\n",
    "b=0\n",
    "list_result=[]\n",
    "for i in x:\n",
    "    y = 2*i+b\n",
    "    list_result.append(y)\n",
    "    b = b +1.5\n",
    "print(list_result)\n",
    "    "
   ]
  },
  {
   "cell_type": "code",
   "execution_count": 47,
   "id": "186c3af8",
   "metadata": {},
   "outputs": [
    {
     "name": "stdout",
     "output_type": "stream",
     "text": [
      "Menu\n",
      "1.change pattern 2.Exit:2\n",
      "Thank you\n"
     ]
    }
   ],
   "source": [
    "#improve\n",
    "x=[1.0,1.0,1.0,1.0,1.0,1.0,1.0,1.0,1.0,1.0]\n",
    "b=0\n",
    "\n",
    "\n",
    "while True:\n",
    "    menu = int(input(\"Menu\\n1.change pattern 2.Exit:\"))\n",
    "    if (menu==2):\n",
    "        print('Thank you')\n",
    "        break;\n",
    "    else:\n",
    "        pattern=float(input('pattern:'))\n",
    "        list_result=[]\n",
    "        for i in x:\n",
    "            y = 2*i+b\n",
    "            list_result.append(y)\n",
    "            b = b +pattern\n",
    "        print('Before:',x)\n",
    "        print('After:',list_result)\n"
   ]
  },
  {
   "cell_type": "markdown",
   "id": "3d660209",
   "metadata": {},
   "source": [
    "(a) A, B, Cand Dare  four  sets,  find  the  symmetric difference   between   those   four   setsusing   python programming."
   ]
  },
  {
   "cell_type": "code",
   "execution_count": 38,
   "id": "d9492623",
   "metadata": {},
   "outputs": [
    {
     "name": "stdout",
     "output_type": "stream",
     "text": [
      "{70, 40, 80, 30}\n"
     ]
    }
   ],
   "source": [
    "A = {10, 20, 30, 40}\n",
    "B = {30, 40, 50, 60}\n",
    "C = {10, 20, 30, 50}\n",
    "D = {40, 60, 70, 80}\n",
    "print(A^B^C^D)"
   ]
  },
  {
   "cell_type": "markdown",
   "id": "29186e8b",
   "metadata": {},
   "source": [
    "2.Write a python function called nested_sum that takes a list  of  lists  and  adds  up  the  elements  from  all  of  the nested lists."
   ]
  },
  {
   "cell_type": "code",
   "execution_count": 20,
   "id": "15c966b9",
   "metadata": {},
   "outputs": [
    {
     "name": "stdout",
     "output_type": "stream",
     "text": [
      "[[1, 2], [3], ['a', 'b'], [0.23, 'e'], [4, 5, 6]]\n",
      "21.23 abe\n"
     ]
    }
   ],
   "source": [
    "#normal\n",
    "def nested_sum(y):\n",
    "    number=0\n",
    "    string=''\n",
    "    for lis in y:\n",
    "        for item in lis:\n",
    "            if type(item) == float or type(item) == int:\n",
    "                number += item\n",
    "            else:\n",
    "                string += str(item)\n",
    "    print(number,string)\n",
    "            \n",
    "t = [[1, 2], [3], ['a','b'], [0.23,'e'],  [4, 5, 6]]\n",
    "print(t)\n",
    "nested_sum(t)"
   ]
  },
  {
   "cell_type": "code",
   "execution_count": 55,
   "id": "93028d8a",
   "metadata": {},
   "outputs": [
    {
     "name": "stdout",
     "output_type": "stream",
     "text": [
      "Menu\n",
      "1.add data 2.Exit:1\n",
      "Input data:abc\n",
      "LIST [[1, 2], [3], ['a', 'b'], [0.23, 'e'], [4, 5, 6], ['a', 'b', 'c']]\n",
      "21.23 abeabc\n",
      "Menu\n",
      "1.add data 2.Exit:2\n",
      "Thank you\n"
     ]
    }
   ],
   "source": [
    "#improve\n",
    "def nested_sum(y):\n",
    "    number=0\n",
    "    string=''\n",
    "    for lis in y:\n",
    "        for item in lis:\n",
    "            if type(item) == float or type(item) == int:\n",
    "                number += item\n",
    "            else:\n",
    "                string += str(item)\n",
    "    print(number,string)\n",
    "            \n",
    "t = [[1, 2], [3], ['a','b'], [0.23,'e'],  [4, 5, 6]]\n",
    "while True:\n",
    "    menu = int(input(\"Menu\\n1.add data 2.Exit:\"))\n",
    "    if (menu==1):\n",
    "        add=list(input(\"Input data:\"))\n",
    "        t.append(add)\n",
    "        print('LIST',t)\n",
    "        nested_sum(t)\n",
    "    else:\n",
    "        print('Thank you')\n",
    "        break;\n",
    "        \n"
   ]
  },
  {
   "cell_type": "markdown",
   "id": "349b2292",
   "metadata": {},
   "source": [
    "3.Ask  the  user  to  input  a  string  and  write  a python functiontocheckwhether the inputincludes numbersor not. If there are numbers, remove them. Then,finds  the  histogram  of  each characterin  the resulted string (without numbers). "
   ]
  },
  {
   "cell_type": "code",
   "execution_count": 31,
   "id": "6dfe3b6d",
   "metadata": {},
   "outputs": [
    {
     "name": "stdout",
     "output_type": "stream",
     "text": [
      "Enter a string:29th Park Street\n",
      "Warning: Your input has number.They will be removed\n",
      "Resulted String: th Park Street\n",
      "Histogram\n",
      "***********\n",
      "{'t': 3, 'h': 1, 'p': 1, 'a': 1, 'r': 2, 'k': 1, 's': 1, 'e': 2}\n"
     ]
    }
   ],
   "source": [
    "string = input(\"Enter a string:\")\n",
    "\n",
    "check = True\n",
    "for i in string:\n",
    "    if(i>='0' and i<='9'):\n",
    "        check = False\n",
    "        string=string.replace(i,'')\n",
    "if(check == False):\n",
    "    print('Warning: Your input has number.They will be removed')\n",
    "print('Resulted String:',string)\n",
    "print('Histogram')\n",
    "print('***********')\n",
    "hist={}\n",
    "for i in string.lower():\n",
    "    if(i!=' '):\n",
    "        if(i in hist):\n",
    "            hist[i]+=1\n",
    "        else:\n",
    "            hist[i]=1\n",
    "print(hist)\n",
    "\n"
   ]
  },
  {
   "cell_type": "markdown",
   "id": "d618ac1b",
   "metadata": {},
   "source": [
    "The  following  formula  is  to  calculate  the  body  mass index (BMI) of a person. Write a python program to calculate BMI if they user inputs weight in pound (lb) and height in centimeter (cm).Hints:1 kg = 2.205 lb, 1 m  = 100 cm"
   ]
  },
  {
   "cell_type": "code",
   "execution_count": 59,
   "id": "32e751d7",
   "metadata": {},
   "outputs": [
    {
     "name": "stdout",
     "output_type": "stream",
     "text": [
      "Enter your weight:60\n",
      "Enter your hight:168\n",
      "Your BMI is 9.641044626467368\n"
     ]
    }
   ],
   "source": [
    "#normal\n",
    "w =float(input(\"Enter your weight:\"))\n",
    "h =float(input(\"Enter your hight:\"))\n",
    "w=w/2.205\n",
    "h=h/100\n",
    "BMI = float(w/(h*h))\n",
    "print('Your BMI is',BMI)"
   ]
  },
  {
   "cell_type": "code",
   "execution_count": 60,
   "id": "2ed72ee8",
   "metadata": {},
   "outputs": [
    {
     "name": "stdout",
     "output_type": "stream",
     "text": [
      "Hello (^_^)\n",
      "What you name?\n",
      ":anon\n",
      "Hi anon\n",
      "Welcome to BMI calculator\n",
      "Menu\n",
      "1.BMI2.Exit1\n",
      "Enter your weight:60\n",
      "Enter your hight:168\n",
      "Your BMI is 9.641044626467368\n",
      "Welcome to BMI calculator\n",
      "Menu\n",
      "1.BMI2.Exit2\n",
      "Thank\n"
     ]
    }
   ],
   "source": [
    "#improve\n",
    "print('Hello (^_^)\\nWhat you name?')\n",
    "name = input(':')\n",
    "print('Hi',name)\n",
    "\n",
    "while True:\n",
    "    print('Welcome to BMI calculator')\n",
    "    menu = int(input(\"Menu\\n1.BMI2.Exit\"))\n",
    "    if (menu==2):\n",
    "        print('Thank')\n",
    "        break;\n",
    "    else:\n",
    "        w =float(input(\"Enter your weight:\"))\n",
    "        h =float(input(\"Enter your hight:\"))\n",
    "        w=w/2.205\n",
    "        h=h/100\n",
    "        BMI = float(w/(h*h))\n",
    "        print('Your BMI is',BMI)"
   ]
  },
  {
   "cell_type": "markdown",
   "id": "28dea768",
   "metadata": {},
   "source": [
    "# Anon Suphatphon 62011090"
   ]
  },
  {
   "cell_type": "code",
   "execution_count": null,
   "id": "a514b3ed",
   "metadata": {},
   "outputs": [],
   "source": []
  }
 ],
 "metadata": {
  "kernelspec": {
   "display_name": "Python 3",
   "language": "python",
   "name": "python3"
  },
  "language_info": {
   "codemirror_mode": {
    "name": "ipython",
    "version": 3
   },
   "file_extension": ".py",
   "mimetype": "text/x-python",
   "name": "python",
   "nbconvert_exporter": "python",
   "pygments_lexer": "ipython3",
   "version": "3.8.8"
  }
 },
 "nbformat": 4,
 "nbformat_minor": 5
}
