{
 "cells": [
  {
   "cell_type": "markdown",
   "id": "a58c899d",
   "metadata": {},
   "source": [
    "# Check point1"
   ]
  },
  {
   "cell_type": "markdown",
   "id": "1aee846b",
   "metadata": {},
   "source": [
    "Equal vs Copy function dictionary"
   ]
  },
  {
   "cell_type": "code",
   "execution_count": 11,
   "id": "ea42da60",
   "metadata": {},
   "outputs": [
    {
     "name": "stdout",
     "output_type": "stream",
     "text": [
      "New dictionary: {}\n",
      "Original dictionary: {}\n"
     ]
    }
   ],
   "source": [
    "#equal operator\n",
    "original = {1:'one',2:'two'}\n",
    "new = original\n",
    "\n",
    "#dele original dic\n",
    "original.clear()\n",
    "print('New dictionary:', new)\n",
    "print('Original dictionary:', original)"
   ]
  },
  {
   "cell_type": "code",
   "execution_count": 10,
   "id": "299dc495",
   "metadata": {},
   "outputs": [
    {
     "name": "stdout",
     "output_type": "stream",
     "text": [
      "New dictionary: {1: 'one', 2: 'two'}\n",
      "Original dictionary: {}\n"
     ]
    }
   ],
   "source": [
    "#copy function\n",
    "original = {1:'one',2:'two'}\n",
    "new = original.copy()\n",
    "\n",
    "#dele original dic\n",
    "original.clear()\n",
    "\n",
    "print('New dictionary:', new)\n",
    "print('Original dictionary:', original)"
   ]
  },
  {
   "cell_type": "markdown",
   "id": "4731e0d6",
   "metadata": {},
   "source": [
    "# Check point2"
   ]
  },
  {
   "cell_type": "markdown",
   "id": "238620f3",
   "metadata": {},
   "source": [
    "Get Method"
   ]
  },
  {
   "cell_type": "code",
   "execution_count": 8,
   "id": "24717788",
   "metadata": {},
   "outputs": [
    {
     "name": "stdout",
     "output_type": "stream",
     "text": [
      "Question 1: A1\n",
      "Question 2: A2\n",
      "Question 3: A3\n",
      "Question 4: A4\n",
      "{'Q1': 'A1', 'Q2': 'A2', 'Q3': 'A3'}\n"
     ]
    }
   ],
   "source": [
    "mydic = {'Q1':'A1','Q2':'A2','Q3':'A3'}\n",
    "\n",
    "print('Question 1:',mydic.get('Q1'))\n",
    "print('Question 2:',mydic.get('Q2'))\n",
    "print('Question 3:',mydic.get('Q3'))\n",
    "print('Question 4:',mydic.get('Q4','A4'))\n",
    "\n",
    "print(mydic)"
   ]
  },
  {
   "cell_type": "markdown",
   "id": "47918001",
   "metadata": {},
   "source": [
    "# Check point3"
   ]
  },
  {
   "cell_type": "markdown",
   "id": "6957487d",
   "metadata": {},
   "source": [
    "Items function  Dictionary"
   ]
  },
  {
   "cell_type": "code",
   "execution_count": 7,
   "id": "6709c3e5",
   "metadata": {},
   "outputs": [
    {
     "name": "stdout",
     "output_type": "stream",
     "text": [
      "Before deleting: dict_items([('F1', 'Mango'), ('F2', 'Orange'), ('F3', 'PineApple')])\n",
      "After deleting: dict_items([('F1', 'Mango'), ('F3', 'PineApple')])\n"
     ]
    }
   ],
   "source": [
    "fruits = {'F1':'Mango','F2':'Orange','F3':'PineApple'}\n",
    "fruit_items = fruits.items()\n",
    "print('Before deleting:', fruit_items)\n",
    "\n",
    "#del an entry(key:value)\n",
    "del fruits['F2']\n",
    "print('After deleting:', fruit_items)"
   ]
  },
  {
   "cell_type": "markdown",
   "id": "2b29d699",
   "metadata": {},
   "source": [
    "# Check point4"
   ]
  },
  {
   "cell_type": "markdown",
   "id": "0dc17c1b",
   "metadata": {},
   "source": [
    "Pop and Popitems methods in dictionary"
   ]
  },
  {
   "cell_type": "code",
   "execution_count": 6,
   "id": "49b84520",
   "metadata": {},
   "outputs": [
    {
     "name": "stdout",
     "output_type": "stream",
     "text": [
      "Before using pop: {'F1': 'Mango', 'F2': 'Orange', 'F3': 'PineApple'}\n",
      "\n",
      "Pop Method\n",
      "Return of pop function: PineApple\n",
      "After using pop: {'F1': 'Mango', 'F2': 'Orange'}\n"
     ]
    }
   ],
   "source": [
    "fruits = {'F1':'Mango','F2':'Orange','F3':'PineApple'}\n",
    "print('Before using pop:',fruits)\n",
    "print('\\nPop Method')\n",
    "result = fruits.pop('F3')\n",
    "\n",
    "print('Return of pop function:',result)\n",
    "print('After using pop:',fruits)"
   ]
  },
  {
   "cell_type": "markdown",
   "id": "b1e813ce",
   "metadata": {},
   "source": [
    "# Check point5"
   ]
  },
  {
   "cell_type": "markdown",
   "id": "dacb2125",
   "metadata": {},
   "source": [
    "Comparison of List and Tuple"
   ]
  },
  {
   "cell_type": "code",
   "execution_count": 5,
   "id": "e0b16f1e",
   "metadata": {},
   "outputs": [
    {
     "name": "stdout",
     "output_type": "stream",
     "text": [
      "The size of my list is: 88\n",
      "The size of my turple is: 72\n",
      "The time of my list is: 0.013969291999956113\n",
      "The time of my turple is: 0.003718458999969698\n"
     ]
    }
   ],
   "source": [
    "#comparison between tuple and List\n",
    "my_list = [1,'k',0.6,'Hello']\n",
    "myturple = (1,'k',0.6,'Hello');\n",
    "\n",
    "#compare the size\n",
    "import sys\n",
    "print('The size of my list is:',sys.getsizeof(my_list));\n",
    "print('The size of my turple is:',sys.getsizeof(myturple));\n",
    "\n",
    "#compare the time\n",
    "import timeit\n",
    "print('The time of my list is:',timeit.timeit(stmt = \"[1,'k',0.6]\",number = 100000));\n",
    "print('The time of my turple is:',timeit.timeit(stmt = \"(1,'k',0.6)\",number = 100000));"
   ]
  },
  {
   "cell_type": "markdown",
   "id": "6a11615d",
   "metadata": {},
   "source": [
    "# Check point6"
   ]
  },
  {
   "cell_type": "markdown",
   "id": "abe3adad",
   "metadata": {},
   "source": [
    "Union in sets"
   ]
  },
  {
   "cell_type": "code",
   "execution_count": 1,
   "id": "8f5eead5",
   "metadata": {},
   "outputs": [
    {
     "name": "stdout",
     "output_type": "stream",
     "text": [
      "Unsing Unioun Operator: {'f', 'd', 'b', 'c', 'a', 'e'}\n",
      "Unsing Unioun Method: {'f', 'd', 'b', 'c', 'a', 'e'}\n"
     ]
    }
   ],
   "source": [
    "x1 = {'a','b','c'}\n",
    "x2 = {'d','e','c'}\n",
    "x3 = {'d','e','f'}\n",
    "\n",
    "# union of using operator\n",
    "union_x = x1| x2| x3\n",
    "print('Unsing Unioun Operator:', union_x)\n",
    "\n",
    "# union of using method\n",
    "union_x = x1.union(x2,x3)\n",
    "print('Unsing Unioun Method:', union_x)"
   ]
  },
  {
   "cell_type": "code",
   "execution_count": null,
   "id": "ae658a89",
   "metadata": {},
   "outputs": [],
   "source": []
  }
 ],
 "metadata": {
  "kernelspec": {
   "display_name": "Python 3",
   "language": "python",
   "name": "python3"
  },
  "language_info": {
   "codemirror_mode": {
    "name": "ipython",
    "version": 3
   },
   "file_extension": ".py",
   "mimetype": "text/x-python",
   "name": "python",
   "nbconvert_exporter": "python",
   "pygments_lexer": "ipython3",
   "version": "3.8.8"
  }
 },
 "nbformat": 4,
 "nbformat_minor": 5
}
