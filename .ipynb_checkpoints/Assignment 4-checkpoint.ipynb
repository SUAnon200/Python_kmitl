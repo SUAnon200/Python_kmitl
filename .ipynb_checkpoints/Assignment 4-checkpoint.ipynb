{
 "cells": [
  {
   "cell_type": "markdown",
   "id": "5824da49",
   "metadata": {},
   "source": [
    "1.Using the given python list, write a program to find the second largest value and replace it with 10% of that value. The orders of elements in the given list should be remained the same in the final output list\n",
    "    num_list = [ 44, 6, 80, 52, 79, 101]\n",
    "    Expected Output : [44, 6, 8.0, 52, 79, 101]"
   ]
  },
  {
   "cell_type": "code",
   "execution_count": 13,
   "id": "98ac7655",
   "metadata": {},
   "outputs": [
    {
     "name": "stdout",
     "output_type": "stream",
     "text": [
      "second largest value is: 80\n",
      "10% of that value is: 8.0\n",
      "[44, 6, 8.0, 52, 79, 101]\n"
     ]
    }
   ],
   "source": [
    "list = [44, 6, 80, 52, 79, 101]\n",
    " \n",
    "new_list = set(list)\n",
    "new_list.remove(max(new_list))\n",
    "\n",
    "y = max(new_list)\n",
    "print('second largest value is:',y)\n",
    "print('10% of that value is:',10/100*y)\n",
    "list[list.index(y)]=10/100*y\n",
    "print(list)"
   ]
  },
  {
   "cell_type": "markdown",
   "id": "780370b5",
   "metadata": {},
   "source": [
    "2. Write a python function to check whether the given list contains duplicate elements or not.\n",
    "\n",
    "given_list = ['aa','bb', 33, 'ei', 22, 33, 'xyz', 'ei']\n",
    "\n",
    "If the list contains duplicates, the function should return True and the indexes of duplicates.\n",
    "\n",
    "Then ask a user input to remove the duplicates. User input should be a single character (y or n).\n",
    "\n",
    "If the user input y, remove the duplicates. If not, keep the list the same.\n",
    "\n",
    "If user input is not (y or n), show a warning to enter only y or n."
   ]
  },
  {
   "cell_type": "code",
   "execution_count": 2,
   "id": "fa3d44be",
   "metadata": {},
   "outputs": [
    {
     "name": "stdout",
     "output_type": "stream",
     "text": [
      "Given list: ['aa', 'bb', 33, 'ei', 22, 33, 'xyz', 'ei']\n",
      "Duplicates found at incidies : [2, 3, 5, 7]\n",
      "Do you want to remove the duplicate from the list?\n",
      "[y or n]:y\n",
      "List updated [33, 'ei', 'bb', 'xyz', 'aa', 22]\n"
     ]
    }
   ],
   "source": [
    "def duplicates(values):\n",
    "    if len(values) != len(set(values)):\n",
    "        return True\n",
    "    else:\n",
    "        return False\n",
    "    \n",
    "list1 = ['aa','bb', 33, 'ei', 22, 33, 'xyz', 'ei']\n",
    "\n",
    "check = []\n",
    "print('Given list:',list1)\n",
    "\n",
    "for o,i in enumerate(list1):\n",
    "    if list1.count(i) > 1:\n",
    "        check.append(o)\n",
    "\n",
    "def Menu():\n",
    "    print(\"Do you want to remove the duplicate from the list?\")\n",
    "\n",
    "def menuSelect():\n",
    "    userSelected = str(input(\"[y or n]:\"))\n",
    "    return userSelected\n",
    "\n",
    "\n",
    "if duplicates(list1)==True :\n",
    "    print('Duplicates found at incidies :',check)\n",
    "    while True:\n",
    "        Menu()\n",
    "        menu = menuSelect()\n",
    "        if menu == 'y':\n",
    "            list1 = list(set(list1))\n",
    "            print('List updated',list1)\n",
    "            break\n",
    "        elif menu =='n':\n",
    "            print('Good bye')\n",
    "            break\n",
    "        else:\n",
    "            print('Warning!! enter only y or n.')\n",
    "else:\n",
    "    print('No duplicates presented')"
   ]
  },
  {
   "cell_type": "code",
   "execution_count": null,
   "id": "263b2575",
   "metadata": {},
   "outputs": [],
   "source": []
  },
  {
   "cell_type": "code",
   "execution_count": null,
   "id": "f32f9553",
   "metadata": {},
   "outputs": [],
   "source": []
  },
  {
   "cell_type": "code",
   "execution_count": null,
   "id": "1508fb1e",
   "metadata": {},
   "outputs": [],
   "source": []
  }
 ],
 "metadata": {
  "kernelspec": {
   "display_name": "Python 3",
   "language": "python",
   "name": "python3"
  },
  "language_info": {
   "codemirror_mode": {
    "name": "ipython",
    "version": 3
   },
   "file_extension": ".py",
   "mimetype": "text/x-python",
   "name": "python",
   "nbconvert_exporter": "python",
   "pygments_lexer": "ipython3",
   "version": "3.8.8"
  }
 },
 "nbformat": 4,
 "nbformat_minor": 5
}
