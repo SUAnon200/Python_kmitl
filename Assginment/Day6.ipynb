{
 "cells": [
  {
   "cell_type": "code",
   "execution_count": 1,
   "id": "fef0aa4c",
   "metadata": {},
   "outputs": [
    {
     "name": "stdout",
     "output_type": "stream",
     "text": [
      "checkpoint1\n",
      "checkpoint2\n",
      "checkpoint3\n",
      "checkpoint4\n",
      "checkpoint5\n",
      "Checkpoint or homework,fully work,should stop\n"
     ]
    }
   ],
   "source": [
    "work=[\"checkpoint1\",\"checkpoint2\",\"checkpoint3\",\"checkpoint4\",\"checkpoint5\"]\n",
    "for i in work:\n",
    "    print(i)\n",
    "print(\"Checkpoint or homework,fully work,should stop\")"
   ]
  },
  {
   "cell_type": "code",
   "execution_count": 2,
   "id": "04d4c01b",
   "metadata": {},
   "outputs": [
    {
     "data": {
      "text/plain": [
       "<str_iterator at 0x7ffdd0367a90>"
      ]
     },
     "execution_count": 2,
     "metadata": {},
     "output_type": "execute_result"
    }
   ],
   "source": [
    "iter(\"Apple\")"
   ]
  },
  {
   "cell_type": "code",
   "execution_count": 3,
   "id": "bd277d86",
   "metadata": {},
   "outputs": [
    {
     "data": {
      "text/plain": [
       "<list_iterator at 0x7ffdd0343580>"
      ]
     },
     "execution_count": 3,
     "metadata": {},
     "output_type": "execute_result"
    }
   ],
   "source": [
    "iter([\"work\",\"work\",\"work\"])"
   ]
  },
  {
   "cell_type": "code",
   "execution_count": 4,
   "id": "deb0a2aa",
   "metadata": {},
   "outputs": [
    {
     "data": {
      "text/plain": [
       "<tuple_iterator at 0x7ffdd03672b0>"
      ]
     },
     "execution_count": 4,
     "metadata": {},
     "output_type": "execute_result"
    }
   ],
   "source": [
    "iter(('checkpoint','checkpoint','checkpoint'))"
   ]
  },
  {
   "cell_type": "code",
   "execution_count": 5,
   "id": "f368a981",
   "metadata": {},
   "outputs": [
    {
     "data": {
      "text/plain": [
       "<set_iterator at 0x7ffdd035b040>"
      ]
     },
     "execution_count": 5,
     "metadata": {},
     "output_type": "execute_result"
    }
   ],
   "source": [
    "iter({\"work\",\"work\",\"work\"})"
   ]
  },
  {
   "cell_type": "code",
   "execution_count": 6,
   "id": "345d1ddc",
   "metadata": {},
   "outputs": [
    {
     "data": {
      "text/plain": [
       "<dict_keyiterator at 0x7ffdd037f040>"
      ]
     },
     "execution_count": 6,
     "metadata": {},
     "output_type": "execute_result"
    }
   ],
   "source": [
    "iter({\"work\":1,\"work\":2,\"work\":3})"
   ]
  },
  {
   "cell_type": "code",
   "execution_count": 14,
   "id": "48765543",
   "metadata": {},
   "outputs": [
    {
     "data": {
      "text/plain": [
       "<str_iterator at 0x7ffdd0367eb0>"
      ]
     },
     "execution_count": 14,
     "metadata": {},
     "output_type": "execute_result"
    }
   ],
   "source": [
    "a = iter(\"Everyday checkpoint\")\n",
    "a"
   ]
  },
  {
   "cell_type": "code",
   "execution_count": 15,
   "id": "6a564cea",
   "metadata": {},
   "outputs": [
    {
     "name": "stdout",
     "output_type": "stream",
     "text": [
      "E\n",
      "v\n",
      "e\n",
      "r\n",
      "y\n",
      "d\n",
      "a\n",
      "y\n",
      " \n",
      "c\n",
      "h\n",
      "e\n",
      "c\n",
      "k\n",
      "p\n",
      "o\n",
      "i\n"
     ]
    }
   ],
   "source": [
    "for i in range(17):\n",
    "    print(next(a))"
   ]
  },
  {
   "cell_type": "code",
   "execution_count": 22,
   "id": "3bb78b9c",
   "metadata": {},
   "outputs": [
    {
     "name": "stdout",
     "output_type": "stream",
     "text": [
      "-------Iter1--------\n",
      "Tired1\n",
      "Tired2\n",
      "Tired3 \n",
      "\n",
      "-------Iter2--------\n",
      "Tired1\n"
     ]
    }
   ],
   "source": [
    "a = ['Tired1','Tired2','Tired3']\n",
    "itr = iter(a)\n",
    "itr2 = iter(a)\n",
    "\n",
    "print(\"Iter1\".center(20,\"-\"))\n",
    "print(next(itr))\n",
    "print(next(itr))\n",
    "print(next(itr),'\\n')\n",
    "\n",
    "print(\"Iter2\".center(20,\"-\"))\n",
    "print(next(itr2))"
   ]
  },
  {
   "cell_type": "markdown",
   "id": "0aa3687e",
   "metadata": {},
   "source": [
    "zip function"
   ]
  },
  {
   "cell_type": "code",
   "execution_count": 24,
   "id": "22a2c51d",
   "metadata": {},
   "outputs": [
    {
     "name": "stdout",
     "output_type": "stream",
     "text": [
      "B hit\n",
      "M bmi\n",
      "E pdent\n"
     ]
    }
   ],
   "source": [
    "iter1 = \"BME\"\n",
    "iter2 = ['hit','bmi','pdent']\n",
    "\n",
    "for i, j in zip(iter1,iter2):\n",
    "    print(i,j)"
   ]
  },
  {
   "cell_type": "code",
   "execution_count": 26,
   "id": "75211993",
   "metadata": {},
   "outputs": [
    {
     "name": "stdout",
     "output_type": "stream",
     "text": [
      "1 11\n",
      "2 12\n",
      "3 13\n",
      "4 14\n",
      "5 15\n",
      "6 16\n",
      "7 17\n",
      "8 18\n",
      "9 19\n"
     ]
    }
   ],
   "source": [
    "for i, j in zip(range(1,10),range(11,21)):\n",
    "    print(i,j)"
   ]
  },
  {
   "cell_type": "code",
   "execution_count": 29,
   "id": "96d0c466",
   "metadata": {},
   "outputs": [
    {
     "name": "stdout",
     "output_type": "stream",
     "text": [
      "5\n"
     ]
    }
   ],
   "source": [
    "for n in range(5):\n",
    "    print(5)\n",
    "    break"
   ]
  },
  {
   "cell_type": "code",
   "execution_count": 32,
   "id": "13c4e403",
   "metadata": {},
   "outputs": [],
   "source": [
    "for n in range(5):\n",
    "    break\n",
    "    print(5)"
   ]
  },
  {
   "cell_type": "code",
   "execution_count": 33,
   "id": "b55e1ca5",
   "metadata": {},
   "outputs": [
    {
     "name": "stdout",
     "output_type": "stream",
     "text": [
      "0\n",
      "1\n",
      "2\n",
      "4\n"
     ]
    }
   ],
   "source": [
    "for n in range(5):\n",
    "    if n==3:\n",
    "        continue\n",
    "    else:\n",
    "        print(n)"
   ]
  },
  {
   "cell_type": "code",
   "execution_count": 34,
   "id": "9f7ccf2b",
   "metadata": {},
   "outputs": [
    {
     "name": "stdout",
     "output_type": "stream",
     "text": [
      "0\n",
      "1\n",
      "2\n",
      "3\n",
      "4\n",
      "5\n",
      "6\n"
     ]
    }
   ],
   "source": [
    "for i in range(10):\n",
    "    print(i)\n",
    "    if i==6:\n",
    "        break\n",
    "else:\n",
    "    print(\"Done\")"
   ]
  },
  {
   "cell_type": "code",
   "execution_count": 35,
   "id": "101b32f8",
   "metadata": {},
   "outputs": [
    {
     "name": "stdout",
     "output_type": "stream",
     "text": [
      "4\n",
      "3\n",
      "2\n",
      "1\n",
      "0\n"
     ]
    }
   ],
   "source": [
    "n=5\n",
    "while n>0: n-=1; print(n)"
   ]
  },
  {
   "cell_type": "code",
   "execution_count": 38,
   "id": "6f6de95b",
   "metadata": {},
   "outputs": [
    {
     "name": "stdout",
     "output_type": "stream",
     "text": [
      "5\n",
      "4\n",
      "3\n",
      "2\n",
      "1\n",
      "stop\n"
     ]
    }
   ],
   "source": [
    "def countdown(n):\n",
    "    while n>0:\n",
    "        print(n)\n",
    "        n-=1\n",
    "    print('stop')\n",
    "    \n",
    "#call the function\n",
    "countdown(5)"
   ]
  },
  {
   "cell_type": "code",
   "execution_count": 39,
   "id": "08b3c1ad",
   "metadata": {},
   "outputs": [
    {
     "name": "stdout",
     "output_type": "stream",
     "text": [
      "1 2 3 4 5 6 7 8 9 *\n",
      "2 4 6 8 10 12 14 16 18 *\n",
      "3 6 9 12 15 18 21 24 27 *\n",
      "4 8 12 16 20 24 28 32 36 *\n",
      "5 10 15 20 25 30 35 40 45 *\n",
      "6 12 18 24 30 36 42 48 54 *\n",
      "7 14 21 28 35 42 49 56 63 *\n",
      "8 16 24 32 40 48 56 64 72 *\n",
      "9 18 27 36 45 54 63 72 81 *\n"
     ]
    }
   ],
   "source": [
    "for i in range(1,10):\n",
    "    for j in range(1,10):\n",
    "        print(i*j,end =\" \")\n",
    "    print('*')"
   ]
  },
  {
   "cell_type": "code",
   "execution_count": 40,
   "id": "2bcfd042",
   "metadata": {},
   "outputs": [
    {
     "name": "stdout",
     "output_type": "stream",
     "text": [
      "*\n",
      "**\n",
      "***\n",
      "****\n"
     ]
    }
   ],
   "source": [
    "i = 1\n",
    "while i<5:\n",
    "    j=0\n",
    "    while j<i:\n",
    "        print('*',end ='')\n",
    "        j=j+1\n",
    "    print('')\n",
    "    i=i+1"
   ]
  },
  {
   "cell_type": "code",
   "execution_count": null,
   "id": "6b4dca21",
   "metadata": {},
   "outputs": [],
   "source": []
  }
 ],
 "metadata": {
  "kernelspec": {
   "display_name": "Python 3",
   "language": "python",
   "name": "python3"
  },
  "language_info": {
   "codemirror_mode": {
    "name": "ipython",
    "version": 3
   },
   "file_extension": ".py",
   "mimetype": "text/x-python",
   "name": "python",
   "nbconvert_exporter": "python",
   "pygments_lexer": "ipython3",
   "version": "3.8.8"
  }
 },
 "nbformat": 4,
 "nbformat_minor": 5
}
