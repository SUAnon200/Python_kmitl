{
 "cells": [
  {
   "cell_type": "markdown",
   "id": "a6ddd670",
   "metadata": {},
   "source": [
    "# Exercise3"
   ]
  },
  {
   "cell_type": "code",
   "execution_count": 6,
   "id": "e49291db",
   "metadata": {},
   "outputs": [
    {
     "name": "stdout",
     "output_type": "stream",
     "text": [
      "        Welcome (o_0)         \n",
      "------------------------\n",
      "Enter a number: 12\n",
      "12 is not a prime number\n",
      "2 times 6 is 12\n"
     ]
    }
   ],
   "source": [
    "print(\"Welcome (o_0)\".center(30))\n",
    "print(\"------------------------\")\n",
    "num = int(input(\"Enter a number: \"))\n",
    "if num > 1:\n",
    "    for i in range(2,num):\n",
    "        if (num % i) == 0:\n",
    "            print(num,\"is not a prime number\")\n",
    "            print(i,\"times\",num//i,\"is\",num)\n",
    "            break\n",
    "    else:\n",
    "       print(num,\"is a prime number\")\n",
    "       \n",
    "else:\n",
    "   print(num,\"is not a prime number\")"
   ]
  },
  {
   "cell_type": "markdown",
   "id": "41a43da7",
   "metadata": {},
   "source": [
    "# Exercise4"
   ]
  },
  {
   "cell_type": "code",
   "execution_count": 20,
   "id": "32e55f3f",
   "metadata": {},
   "outputs": [
    {
     "name": "stdout",
     "output_type": "stream",
     "text": [
      "-------Programs-------\n",
      "1.Check month\n",
      "2.Exit\n",
      ":1\n",
      "Enter a name of month:February\n",
      "Enter year in BC:2015\n",
      "There is 29 days on February in this year.\n"
     ]
    }
   ],
   "source": [
    "days31=[\"January\",\"March\",\"May\",\"July\",\"August\",\"October\",\"December\"]\n",
    "days30=[\"April\",\"June\",\"September\",\"November\"]\n",
    "def monthcheck(a,b):\n",
    "    if a in days31:\n",
    "        print(\"There is 31 days on\",a,\"in a year.\")\n",
    "    elif a in days30:\n",
    "        print(\"There is 30 days on\",a,\"in a year.\")\n",
    "    elif a==\"February\":\n",
    "        if b%4 ==0:\n",
    "            print(\"There is 28 days on\",a,\"in this year.\")\n",
    "        else:\n",
    "            print(\"There is 29 days on\",a,\"in this year.\") \n",
    "    else:print(\"Try it again\")        \n",
    "def showMenu():\n",
    "    print(\"-------Programs-------\")\n",
    "    print(\"1.Check month\")\n",
    "    print(\"2.Exit\")\n",
    "\n",
    "def menuSelect():\n",
    "    userSelected = int(input(\":\"))\n",
    "    return userSelected\n",
    "showMenu()\n",
    "menu = menuSelect()\n",
    "if menu == 1:\n",
    "    month = str(input(\"Enter a name of month:\"))\n",
    "    year = int(input(\"Enter year in BC:\"))\n",
    "    monthcheck(month,year)\n",
    "elif menu == 2:\n",
    "    print(\"GOODBYE (^_^)\")\n",
    "else:\n",
    "    print(\"Error\")\n"
   ]
  },
  {
   "cell_type": "markdown",
   "id": "36c834e8",
   "metadata": {},
   "source": [
    "# Exercise5"
   ]
  },
  {
   "cell_type": "code",
   "execution_count": 26,
   "id": "91e08346",
   "metadata": {},
   "outputs": [
    {
     "name": "stdout",
     "output_type": "stream",
     "text": [
      "Enter your height in cm: 168\n",
      "Enter your weight in kg: 60\n",
      "You BMI is 21.258503401360546\n",
      "You are healthy.\n"
     ]
    }
   ],
   "source": [
    "def check(w,h):\n",
    "    BMI = w/((h/100)**2)\n",
    "    print(f\"You BMI is {BMI}\")\n",
    "    if 18.5<=BMI<25:\n",
    "        print(\"You are healthy.\")\n",
    "    elif 25<=BMI<30:\n",
    "        print(\"You are over weight.\")\n",
    "    elif 30<=BMI<40:\n",
    "        print(\"You are obese.\")\n",
    "    elif BMI>=40:\n",
    "        print(\"You are severely obese.\")\n",
    "        \n",
    "height = float(input(\"Enter your height in cm: \"))\n",
    "weight = float(input(\"Enter your weight in kg: \"))\n",
    "check(weight,height)\n"
   ]
  },
  {
   "cell_type": "code",
   "execution_count": null,
   "id": "0d79fafe",
   "metadata": {},
   "outputs": [],
   "source": []
  }
 ],
 "metadata": {
  "kernelspec": {
   "display_name": "Python 3.9.6 64-bit",
   "language": "python",
   "name": "python396jvsc74a57bd0aee8b7b246df8f9039afb4144a1f6fd8d2ca17a180786b69acc140d282b71a49"
  },
  "language_info": {
   "codemirror_mode": {
    "name": "ipython",
    "version": 3
   },
   "file_extension": ".py",
   "mimetype": "text/x-python",
   "name": "python",
   "nbconvert_exporter": "python",
   "pygments_lexer": "ipython3",
   "version": "3.9.6"
  }
 },
 "nbformat": 4,
 "nbformat_minor": 5
}
