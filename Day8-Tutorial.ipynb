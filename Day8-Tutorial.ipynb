{
 "cells": [
  {
   "cell_type": "markdown",
   "id": "abd48908",
   "metadata": {},
   "source": [
    "# First checkpoint"
   ]
  },
  {
   "cell_type": "code",
   "execution_count": 3,
   "id": "4f755525",
   "metadata": {},
   "outputs": [
    {
     "name": "stdout",
     "output_type": "stream",
     "text": [
      "Partation method using keyword: ('Biomedical ', 'Engineering', ' Students')\n",
      "\n",
      "Partation method using keyword not in the string : ('Biomedical Engineering Students', '', '')\n",
      "\n",
      "Partation method using space: ('Biomedical', ' ', 'Engineering Students')\n",
      "\n",
      "Partation method using split method: ['Biomedical', 'Engineering', 'Students']\n",
      "\n"
     ]
    }
   ],
   "source": [
    "#partation method\n",
    "str = 'Biomedical Engineering Students'\n",
    "print('Partation method using keyword: {0}\\n'.format(str.partition('Engineering')))\n",
    "print('Partation method using keyword not in the string : {0}\\n'.format(str.partition('aa')))\n",
    "print('Partation method using space: {0}\\n'.format(str.partition(' ')))\n",
    "\n",
    "#split method\n",
    "print('Partation method using split method: {0}\\n'.format(str.split(' ',2)))"
   ]
  },
  {
   "cell_type": "code",
   "execution_count": 4,
   "id": "ba6b507e",
   "metadata": {},
   "outputs": [
    {
     "name": "stdout",
     "output_type": "stream",
     "text": [
      "Split Line Method: ['Hello students.', ' Welcome to our class']\n",
      "\n",
      "\n",
      "Split Line Method: ['Hello students.\\n', ' Welcome to our class']\n",
      "\n"
     ]
    }
   ],
   "source": [
    "#split line method\n",
    "str2 = 'Hello students.\\n Welcome to our class'\n",
    "print('Split Line Method: {}\\n'.format(str2.splitlines()))\n",
    "print('\\nSplit Line Method: {}\\n'.format(str2.splitlines(True)))"
   ]
  },
  {
   "cell_type": "markdown",
   "id": "ec7d1ab1",
   "metadata": {},
   "source": [
    "# check point 2"
   ]
  },
  {
   "cell_type": "code",
   "execution_count": 6,
   "id": "9e8756aa",
   "metadata": {},
   "outputs": [
    {
     "name": "stdout",
     "output_type": "stream",
     "text": [
      "Join Method using Tuple: a b c d\n",
      "Join Method using List: a#b#c#d\n"
     ]
    }
   ],
   "source": [
    "myTuple = ('a','b','c','d')\n",
    "mylist = ['a','b','c','d']\n",
    "\n",
    "print('Join Method using Tuple: {}'.format(' '.join(myTuple)))\n",
    "print('Join Method using List: {}'.format('#'.join(mylist)))"
   ]
  },
  {
   "cell_type": "markdown",
   "id": "eec2d118",
   "metadata": {},
   "source": [
    "# check point 3"
   ]
  },
  {
   "cell_type": "code",
   "execution_count": 9,
   "id": "8fb9bbae",
   "metadata": {},
   "outputs": [
    {
     "name": "stdout",
     "output_type": "stream",
     "text": [
      "Original String in Lower case: happy birthday\n",
      "The value you are finding is not found\n"
     ]
    }
   ],
   "source": [
    "#find method\n",
    "mystr = 'Happy Birthday'\n",
    "mystr = mystr.lower()\n",
    "print('Original String in Lower case: {}'.format(mystr))\n",
    "\n",
    "if mystr.find('sunday')==0:\n",
    "    print('We Found!')\n",
    "    print(mystr.replace('Birthday','monday'))\n",
    "else:\n",
    "    print('The value you are finding is not found')"
   ]
  },
  {
   "cell_type": "code",
   "execution_count": 10,
   "id": "e6e18e6f",
   "metadata": {},
   "outputs": [
    {
     "name": "stdout",
     "output_type": "stream",
     "text": [
      "1\n",
      "Happy Birthday\n"
     ]
    }
   ],
   "source": [
    "#check output of the find method\n",
    "mystr = 'Happy Birthday'\n",
    "print(mystr.find('a'))\n",
    "print(mystr.replace('aa','monday'))"
   ]
  },
  {
   "cell_type": "code",
   "execution_count": 11,
   "id": "7acda7b2",
   "metadata": {},
   "outputs": [
    {
     "name": "stdout",
     "output_type": "stream",
     "text": [
      "I like shirts. Especially white shirts and red flowers\n"
     ]
    }
   ],
   "source": [
    "mystr = 'I like flowers. Especially white flowers and red flowers'\n",
    "x = mystr.replace('flowers','shirts',2)\n",
    "print(x)"
   ]
  },
  {
   "cell_type": "markdown",
   "id": "7114cd0f",
   "metadata": {},
   "source": [
    "# check point 4"
   ]
  },
  {
   "cell_type": "code",
   "execution_count": 14,
   "id": "76b4d524",
   "metadata": {},
   "outputs": [
    {
     "name": "stdout",
     "output_type": "stream",
     "text": [
      "True\n",
      "True\n"
     ]
    }
   ],
   "source": [
    "test = 'String method in python'\n",
    "print(test.startswith(' method',6,-1))\n",
    "print(test.endswith('python'))"
   ]
  },
  {
   "cell_type": "markdown",
   "id": "5044b367",
   "metadata": {},
   "source": [
    "# check point 5"
   ]
  },
  {
   "cell_type": "code",
   "execution_count": 15,
   "id": "7e56ab61",
   "metadata": {},
   "outputs": [
    {
     "name": "stdout",
     "output_type": "stream",
     "text": [
      "Find method: 2\n",
      "Index methiod: 2\n",
      "Find methiod: 15\n",
      "Index methiod: 15\n"
     ]
    }
   ],
   "source": [
    "txt2 = 'Today is a weekday'\n",
    "#find\n",
    "print('Find method: {}'.format(txt2.find('day')))\n",
    "#index\n",
    "print('Index methiod: {}'.format(txt2.index('day')))\n",
    "\n",
    "#rfind\n",
    "print('Find methiod: {}'.format(txt2.rfind('day')))\n",
    "#rindex\n",
    "print('Index methiod: {}'.format(txt2.rindex('day')))"
   ]
  },
  {
   "cell_type": "code",
   "execution_count": 2,
   "id": "8b340fa3",
   "metadata": {},
   "outputs": [
    {
     "ename": "FileNotFoundError",
     "evalue": "[Errno 2] No such file or directory: 'words.txt'",
     "output_type": "error",
     "traceback": [
      "\u001b[1;31m---------------------------------------------------------------------------\u001b[0m",
      "\u001b[1;31mFileNotFoundError\u001b[0m                         Traceback (most recent call last)",
      "\u001b[1;32m<ipython-input-2-b26515182f96>\u001b[0m in \u001b[0;36m<module>\u001b[1;34m\u001b[0m\n\u001b[1;32m----> 1\u001b[1;33m \u001b[0mfin\u001b[0m \u001b[1;33m=\u001b[0m \u001b[0mopen\u001b[0m\u001b[1;33m(\u001b[0m\u001b[1;34m'words.txt'\u001b[0m\u001b[1;33m)\u001b[0m\u001b[1;33m\u001b[0m\u001b[1;33m\u001b[0m\u001b[0m\n\u001b[0m",
      "\u001b[1;31mFileNotFoundError\u001b[0m: [Errno 2] No such file or directory: 'words.txt'"
     ]
    }
   ],
   "source": [
    "fin = open('words.txt')"
   ]
  },
  {
   "cell_type": "code",
   "execution_count": null,
   "id": "16d399db",
   "metadata": {},
   "outputs": [],
   "source": []
  }
 ],
 "metadata": {
  "kernelspec": {
   "display_name": "Python 3",
   "language": "python",
   "name": "python3"
  },
  "language_info": {
   "codemirror_mode": {
    "name": "ipython",
    "version": 3
   },
   "file_extension": ".py",
   "mimetype": "text/x-python",
   "name": "python",
   "nbconvert_exporter": "python",
   "pygments_lexer": "ipython3",
   "version": "3.8.8"
  }
 },
 "nbformat": 4,
 "nbformat_minor": 5
}
